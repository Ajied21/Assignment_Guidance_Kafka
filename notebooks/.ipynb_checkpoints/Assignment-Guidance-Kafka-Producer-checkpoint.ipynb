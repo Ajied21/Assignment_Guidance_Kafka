{
 "cells": [
  {
   "cell_type": "markdown",
   "metadata": {
    "tags": []
   },
   "source": [
    "## Kafka Producer"
   ]
  },
  {
   "cell_type": "code",
   "execution_count": 45,
   "metadata": {
    "tags": []
   },
   "outputs": [],
   "source": [
    "import json\n",
    "import uuid\n",
    "import os\n",
    "import json\n",
    "from dotenv import load_dotenv\n",
    "from pathlib import Path\n",
    "from kafka import KafkaProducer\n",
    "from kafka.admin import KafkaAdminClient, NewPartitions\n",
    "from faker import Faker\n",
    "from time import sleep"
   ]
  },
  {
   "cell_type": "code",
   "execution_count": 27,
   "metadata": {
    "tags": []
   },
   "outputs": [
    {
     "data": {
      "text/plain": [
       "True"
      ]
     },
     "execution_count": 27,
     "metadata": {},
     "output_type": "execute_result"
    }
   ],
   "source": [
    "dotenv_path = Path('/resources/.env')\n",
    "load_dotenv(dotenv_path=dotenv_path)"
   ]
  },
  {
   "cell_type": "code",
   "execution_count": 28,
   "metadata": {
    "tags": []
   },
   "outputs": [],
   "source": [
    "kafka_host = os.getenv('KAFKA_HOST')"
   ]
  },
  {
   "cell_type": "code",
   "execution_count": 29,
   "metadata": {
    "tags": []
   },
   "outputs": [],
   "source": [
    "kafka_topic_partition = \"Data_Transaksi_Keuangan_E-commerce\""
   ]
  },
  {
   "cell_type": "code",
   "execution_count": 30,
   "metadata": {
    "tags": []
   },
   "outputs": [
    {
     "name": "stdout",
     "output_type": "stream",
     "text": [
      "dataeng-kafka\n"
     ]
    }
   ],
   "source": [
    "print(kafka_host)"
   ]
  },
  {
   "cell_type": "code",
   "execution_count": 31,
   "metadata": {
    "tags": []
   },
   "outputs": [],
   "source": [
    "producer = KafkaProducer(bootstrap_servers=f'{kafka_host}:9092')"
   ]
  },
  {
   "cell_type": "code",
   "execution_count": 32,
   "metadata": {
    "tags": []
   },
   "outputs": [],
   "source": [
    "_instance = Faker()\n",
    "global faker\n",
    "# Inisialisasi Faker\n",
    "faker = Faker()"
   ]
  },
  {
   "cell_type": "code",
   "execution_count": 50,
   "metadata": {
    "tags": []
   },
   "outputs": [
    {
     "name": "stdout",
     "output_type": "stream",
     "text": [
      "Saat ini, topik \"Data_Transaksi_Keuangan_E-commerce\" memiliki 1 partition.\n",
      "Berhasil menambah 4 partition ke topik \"Data_Transaksi_Keuangan_E-commerce\". Sekarang total partition: 5.\n"
     ]
    }
   ],
   "source": [
    "# Membuat instance KafkaAdminClient\n",
    "admin_client = KafkaAdminClient(bootstrap_servers=f'{kafka_host}:9092')\n",
    "\n",
    "# Mendapatkan informasi tentang topik sebelum menambah partition\n",
    "topic_info = admin_client.describe_topics([kafka_topic_partition])\n",
    "current_partitions = len(topic_info[0]['partitions'])\n",
    "print(f'Saat ini, topik \"{kafka_topic_partition}\" memiliki {current_partitions} partition.')\n",
    "\n",
    "# Menentukan jumlah partisi baru\n",
    "new_partition_count = 5  # Total jumlah partition yang diinginkan\n",
    "if new_partition_count > current_partitions:\n",
    "    # Menghitung jumlah partisi yang akan ditambahkan\n",
    "    partitions_to_add = new_partition_count - current_partitions\n",
    "\n",
    "    # Membuat NewPartitions dengan jumlah partisi yang ingin ditambahkan\n",
    "    new_partitions = NewPartitions(total_count=new_partition_count)\n",
    "\n",
    "    # Menambah partition\n",
    "    admin_client.create_partitions(\n",
    "        {kafka_topic_partition: new_partitions}\n",
    "    )\n",
    "    print(f'Berhasil menambah {partitions_to_add} partition ke topik \"{kafka_topic_partition}\". Sekarang total partition: {new_partition_count}.')\n",
    "else:\n",
    "    print(f'Tidak ada perubahan. Topik \"{kafka_topic_partition}\" sudah memiliki {current_partitions} partition atau lebih.')"
   ]
  },
  {
   "cell_type": "code",
   "execution_count": 51,
   "metadata": {
    "tags": []
   },
   "outputs": [
    {
     "name": "stdout",
     "output_type": "stream",
     "text": [
      "472fb64c-c70f-4e56-9459-287eeb24a69e RecordMetadata(topic='Data_Transaksi_Keuangan_E-commerce', partition=0, topic_partition=TopicPartition(topic='Data_Transaksi_Keuangan_E-commerce', partition=0), offset=27, timestamp=1730803811553, log_start_offset=0, checksum=None, serialized_key_size=-1, serialized_value_size=633, serialized_header_size=-1)\n",
      "bb91a2af-5a40-420b-8464-2032a8d2725f RecordMetadata(topic='Data_Transaksi_Keuangan_E-commerce', partition=0, topic_partition=TopicPartition(topic='Data_Transaksi_Keuangan_E-commerce', partition=0), offset=28, timestamp=1730803816568, log_start_offset=0, checksum=None, serialized_key_size=-1, serialized_value_size=603, serialized_header_size=-1)\n",
      "831273f3-752e-4851-9daa-6fed861f29c4 RecordMetadata(topic='Data_Transaksi_Keuangan_E-commerce', partition=0, topic_partition=TopicPartition(topic='Data_Transaksi_Keuangan_E-commerce', partition=0), offset=29, timestamp=1730803821576, log_start_offset=0, checksum=None, serialized_key_size=-1, serialized_value_size=625, serialized_header_size=-1)\n",
      "0a9e2767-2bec-43ac-9ca2-03aed78f9af6 RecordMetadata(topic='Data_Transaksi_Keuangan_E-commerce', partition=0, topic_partition=TopicPartition(topic='Data_Transaksi_Keuangan_E-commerce', partition=0), offset=30, timestamp=1730803826582, log_start_offset=0, checksum=None, serialized_key_size=-1, serialized_value_size=624, serialized_header_size=-1)\n"
     ]
    },
    {
     "ename": "KeyboardInterrupt",
     "evalue": "",
     "output_type": "error",
     "traceback": [
      "\u001b[0;31m---------------------------------------------------------------------------\u001b[0m",
      "\u001b[0;31mKeyboardInterrupt\u001b[0m                         Traceback (most recent call last)",
      "Cell \u001b[0;32mIn[51], line 70\u001b[0m\n\u001b[1;32m     65\u001b[0m \u001b[38;5;28mprint\u001b[39m(json_data[\u001b[38;5;124m'\u001b[39m\u001b[38;5;124mtransaction_id\u001b[39m\u001b[38;5;124m'\u001b[39m], response\u001b[38;5;241m.\u001b[39mget())\n\u001b[1;32m     67\u001b[0m \u001b[38;5;66;03m# Untuk testing, kita hanya akan print data\u001b[39;00m\n\u001b[1;32m     68\u001b[0m \u001b[38;5;66;03m# print(json_data)\u001b[39;00m\n\u001b[0;32m---> 70\u001b[0m \u001b[43msleep\u001b[49m\u001b[43m(\u001b[49m\u001b[38;5;241;43m5\u001b[39;49m\u001b[43m)\u001b[49m  \u001b[38;5;66;03m# Jeda 5 detik sebelum mengirim data berikutnya\u001b[39;00m\n",
      "\u001b[0;31mKeyboardInterrupt\u001b[0m: "
     ]
    }
   ],
   "source": [
    "# Di sini diasumsikan Anda sudah memiliki producer Kafka dan topik Kafka\n",
    "# producer = <kafka_producer_instance>\n",
    "# kafka_topic_partition = \"<kafka_topic_name>\"\n",
    "\n",
    "class DataGenerator(object):\n",
    "    @staticmethod\n",
    "    def get_data():\n",
    "        # Generate individual data items\n",
    "        transaction_id = uuid.uuid4().__str__()  # transaction_id\n",
    "        timestamp = faker.date_time_this_year().isoformat()  # timestamp\n",
    "        user_id = faker.uuid4()  # user_id\n",
    "        merchant_id = faker.uuid4()  # merchant_id\n",
    "        amount = round(faker.random_number(digits=5) + faker.random.random(), 2)  # amount\n",
    "        age = faker.random_int(min=19, max=65)  # age\n",
    "        gender = faker.random_element(elements=('Male', 'Female'))  # gender\n",
    "        phone_number = faker.phone_number()  # phone_number\n",
    "        email = faker.email()  # email\n",
    "        currency = faker.currency_code()  # currency\n",
    "        location = faker.city()  # location\n",
    "        country = faker.country()  # country\n",
    "        payment_method = faker.random_element(elements=(\"Credit Card\", \"Debit Card\", \"PayPal\", \"Local Bank Transfer\", \"Foreign Bank Transfer\"))  # payment_method\n",
    "        product_id = faker.uuid4()  # product_id\n",
    "        product_category = faker.random_element(elements=( \"Electronics and Gadgets\",\n",
    "                                                            \"Fashion and Accessories\",\n",
    "                                                            \"Health and Beauty\",\n",
    "                                                            \"Home and Furniture\",\n",
    "                                                            \"Food and Beverages\",\n",
    "                                                            \"Hobbies and Collectibles\",\n",
    "                                                            \"Sports and Outdoors\",\n",
    "                                                            \"Automotive\",\n",
    "                                                            \"Baby and Kids Products\",\n",
    "                                                            \"Office and School Supplies\",\n",
    "                                                            \"Kitchen and Cooking Supplies\",\n",
    "                                                            \"Digital Products and Services\",\n",
    "                                                            \"Pet Supplies\",\n",
    "                                                            \"Real Estate and Property\",\n",
    "                                                            \"Services and Consultancy\" ))  # product_category\n",
    "        quantity = faker.random_int(min=1, max=50)  # quantity\n",
    "        discount = round(faker.random_number(digits=2), 2)  # discount\n",
    "        tax = round(faker.random_number(digits=2), 2)  # tax\n",
    "        shipping_cost = round(faker.random_number(digits=2), 2)  # shipping_cost\n",
    "\n",
    "        # Hitung total_cost di sini\n",
    "        total_cost = round(amount - discount + tax + shipping_cost, 2)  # Hitung total_cost\n",
    "        \n",
    "        return [\n",
    "            transaction_id, timestamp, user_id, merchant_id, amount, age, gender, \n",
    "            phone_number, email, currency, location, country, payment_method, product_id, \n",
    "            product_category, quantity, discount, tax, shipping_cost, total_cost  # total_cost sudah dihitung dan ditambahkan di sini\n",
    "        ]\n",
    "\n",
    "# Loop untuk mengirim data ke Kafka\n",
    "for x in range(1, 500):\n",
    "    columns = [\n",
    "        \"transaction_id\", \"timestamp\", \"user_id\", \"merchant_id\", \"amount\", \"age\", \"gender\", \n",
    "        \"phone_number\", \"email\",\"currency\", \"location\", \"country\", \"payment_method\", \"product_id\", \n",
    "        \"product_category\", \"quantity\", \"discount\", \"tax\", \"shipping_cost\", \"total_cost\"\n",
    "    ]\n",
    "    data_list = DataGenerator.get_data()\n",
    "    json_data = dict(zip(columns, data_list))\n",
    "    _payload = json.dumps(json_data).encode(\"utf-8\")\n",
    "    \n",
    "    # Menggunakan transaction_id sebagai kunci untuk menentukan partisi\n",
    "    key = json_data['transaction_id'].encode(\"utf-8\")  # Kunci sebagai bytes\n",
    "    \n",
    "    # Mengirim data ke Kafka (pastikan `producer` dan `kafka_topic_partition` sudah didefinisikan)\n",
    "    response = producer.send(topic=kafka_topic_partition, value=_payload, key=key)\n",
    "    print(json_data['transaction_id'], response.get())\n",
    "    \n",
    "    # Untuk testing, kita hanya akan print data\n",
    "    # print(json_data)\n",
    "    \n",
    "    sleep(5)  # Jeda 5 detik sebelum mengirim data berikutnya\n"
   ]
  },
  {
   "cell_type": "code",
   "execution_count": null,
   "metadata": {},
   "outputs": [],
   "source": []
  },
  {
   "cell_type": "code",
   "execution_count": null,
   "metadata": {},
   "outputs": [],
   "source": []
  }
 ],
 "metadata": {
  "kernelspec": {
   "display_name": "Python 3 (ipykernel)",
   "language": "python",
   "name": "python3"
  },
  "language_info": {
   "codemirror_mode": {
    "name": "ipython",
    "version": 3
   },
   "file_extension": ".py",
   "mimetype": "text/x-python",
   "name": "python",
   "nbconvert_exporter": "python",
   "pygments_lexer": "ipython3",
   "version": "3.10.10"
  }
 },
 "nbformat": 4,
 "nbformat_minor": 4
}
