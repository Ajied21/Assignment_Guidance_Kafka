{
 "cells": [
  {
   "cell_type": "code",
   "execution_count": 11,
   "id": "25846da4-c6b2-46a5-b7d1-9809732bb1b9",
   "metadata": {
    "tags": []
   },
   "outputs": [],
   "source": [
    "import json\n",
    "import uuid\n",
    "import os\n",
    "import json\n",
    "from dotenv import load_dotenv\n",
    "from pathlib import Path\n",
    "from kafka import KafkaProducer\n",
    "from faker import Faker\n",
    "from time import sleep"
   ]
  },
  {
   "cell_type": "code",
   "execution_count": 12,
   "id": "42f97822-c06f-47e0-a0a4-87a7bf1d95a9",
   "metadata": {
    "tags": []
   },
   "outputs": [
    {
     "data": {
      "text/plain": [
       "True"
      ]
     },
     "execution_count": 12,
     "metadata": {},
     "output_type": "execute_result"
    }
   ],
   "source": [
    "dotenv_path = Path('/resources/.env')\n",
    "load_dotenv(dotenv_path=dotenv_path)"
   ]
  },
  {
   "cell_type": "code",
   "execution_count": 13,
   "id": "3f89f5a9-8c75-4a38-b48d-ad72c6a13c41",
   "metadata": {
    "tags": []
   },
   "outputs": [],
   "source": [
    "kafka_host = os.getenv('KAFKA_HOST')\n",
    "kafka_topic = os.getenv('KAFKA_TOPIC_NAME')\n",
    "kafka_topic_partition = os.getenv('KAFKA_TOPIC_NAME')+\"-1\"\n",
    "kafka_topic_partition = \"dataset\""
   ]
  },
  {
   "cell_type": "code",
   "execution_count": 14,
   "id": "a4a59d22-69c5-4e0a-b1e2-d0d77867c45b",
   "metadata": {
    "tags": []
   },
   "outputs": [
    {
     "name": "stdout",
     "output_type": "stream",
     "text": [
      "dataeng-kafka\n"
     ]
    }
   ],
   "source": [
    "print(kafka_host)"
   ]
  },
  {
   "cell_type": "code",
   "execution_count": 15,
   "id": "8515096d-3bc6-4905-98f5-eb1e6d7bfa4c",
   "metadata": {
    "tags": []
   },
   "outputs": [],
   "source": [
    "producer = KafkaProducer(bootstrap_servers=f'{kafka_host}:9092')"
   ]
  },
  {
   "cell_type": "code",
   "execution_count": 6,
   "id": "78075b5c-08c8-4c43-99a1-0689a87414c4",
   "metadata": {
    "tags": []
   },
   "outputs": [],
   "source": [
    "_instance = Faker()\n",
    "global faker\n",
    "faker = Faker()"
   ]
  },
  {
   "cell_type": "code",
   "execution_count": 17,
   "id": "503ade79-0f77-4970-8e04-ecefce397398",
   "metadata": {
    "tags": []
   },
   "outputs": [
    {
     "name": "stdout",
     "output_type": "stream",
     "text": [
      "b'{\"emp_id\": \"03242d6e-9c86-4496-b0ed-cba1f104325c\", \"employee_name\": \"Matthew Wiggins\", \"department\": \"IT\", \"state\": \"NY\", \"salary\": 132032, \"age\": 50, \"bonus\": 19608, \"ts\": 368152508}'\n",
      "b'{\"emp_id\": \"0a56890f-eeb1-4332-b885-7c2f3d3e727a\", \"employee_name\": \"Angela Braun\", \"department\": \"Sales\", \"state\": \"CA\", \"salary\": 32836, \"age\": 56, \"bonus\": 55905, \"ts\": 988746635}'\n",
      "b'{\"emp_id\": \"08079e95-8802-4282-8320-614ff40a43b2\", \"employee_name\": \"Cory Chen\", \"department\": \"IT\", \"state\": \"IL\", \"salary\": 56698, \"age\": 21, \"bonus\": 58954, \"ts\": 1642556384}'\n",
      "b'{\"emp_id\": \"484f73f7-db58-43b2-b8ba-d05fd8ec542e\", \"employee_name\": \"Colin Owens\", \"department\": \"HR\", \"state\": \"IL\", \"salary\": 144737, \"age\": 47, \"bonus\": 73582, \"ts\": 964619919}'\n",
      "b'{\"emp_id\": \"cce02a6a-80d0-4295-a117-2be32e7a0bf4\", \"employee_name\": \"Walter Fletcher\", \"department\": \"HR\", \"state\": \"RJ\", \"salary\": 138566, \"age\": 22, \"bonus\": 36252, \"ts\": 320415413}'\n",
      "b'{\"emp_id\": \"68144bf8-175d-4fa4-8565-92b1f8b40d55\", \"employee_name\": \"Brandon Delgado\", \"department\": \"IT\", \"state\": \"CA\", \"salary\": 111660, \"age\": 40, \"bonus\": 71634, \"ts\": 1410250062}'\n",
      "b'{\"emp_id\": \"c5d9171d-a74a-48d2-9bc8-d02de6502ff9\", \"employee_name\": \"Tony Howe\", \"department\": \"Marketing\", \"state\": \"IL\", \"salary\": 137968, \"age\": 56, \"bonus\": 65044, \"ts\": 597442363}'\n",
      "b'{\"emp_id\": \"0ebecadd-3373-44e4-894d-4aa0ae180a51\", \"employee_name\": \"Lindsay Simmons\", \"department\": \"IT\", \"state\": \"NY\", \"salary\": 100189, \"age\": 23, \"bonus\": 74103, \"ts\": 574066829}'\n",
      "b'{\"emp_id\": \"71475dd6-9187-494d-9453-7f9617d8dbc9\", \"employee_name\": \"Dominique Reeves\", \"department\": \"IT\", \"state\": \"IL\", \"salary\": 75887, \"age\": 55, \"bonus\": 1624, \"ts\": 1699932265}'\n",
      "b'{\"emp_id\": \"ed345927-d51a-43d9-8bd8-7f65b105e91f\", \"employee_name\": \"Joseph Thomas\", \"department\": \"Sales\", \"state\": \"IL\", \"salary\": 140169, \"age\": 41, \"bonus\": 89692, \"ts\": 1125130511}'\n",
      "b'{\"emp_id\": \"33feb3a1-9531-4422-bc9e-d7b0553f9083\", \"employee_name\": \"Nicholas Graham\", \"department\": \"Sales\", \"state\": \"NY\", \"salary\": 19287, \"age\": 55, \"bonus\": 39161, \"ts\": 1103539927}'\n",
      "b'{\"emp_id\": \"73c5b603-fed4-4609-9197-eaeaee1a5bc8\", \"employee_name\": \"Wendy Williams\", \"department\": \"Sales\", \"state\": \"CA\", \"salary\": 30417, \"age\": 45, \"bonus\": 912, \"ts\": 1551698465}'\n",
      "b'{\"emp_id\": \"6874f2b6-d5a3-4702-a1c2-e2c164140b03\", \"employee_name\": \"Mary Nelson\", \"department\": \"HR\", \"state\": \"FL\", \"salary\": 66059, \"age\": 60, \"bonus\": 20762, \"ts\": 513279569}'\n",
      "b'{\"emp_id\": \"1b966561-ba84-444a-ad8c-9cd9ab7fcecd\", \"employee_name\": \"Christopher Terrell\", \"department\": \"IT\", \"state\": \"IL\", \"salary\": 10724, \"age\": 50, \"bonus\": 33860, \"ts\": 1077945845}'\n",
      "b'{\"emp_id\": \"0f7cb776-28b2-403c-b9dc-c95b429602d6\", \"employee_name\": \"Jesse Lynn Jr.\", \"department\": \"HR\", \"state\": \"FL\", \"salary\": 82124, \"age\": 33, \"bonus\": 2720, \"ts\": 695093072}'\n",
      "b'{\"emp_id\": \"8bb23937-41f5-4cd0-82e6-75121e60bcd5\", \"employee_name\": \"Matthew Jackson\", \"department\": \"IT\", \"state\": \"TX\", \"salary\": 107861, \"age\": 27, \"bonus\": 67568, \"ts\": 1571640133}'\n",
      "b'{\"emp_id\": \"3d0a73c6-6e04-47e3-bd2f-63502d23cc74\", \"employee_name\": \"James Jones\", \"department\": \"Sales\", \"state\": \"NY\", \"salary\": 58374, \"age\": 29, \"bonus\": 17232, \"ts\": 384033821}'\n"
     ]
    },
    {
     "ename": "KeyboardInterrupt",
     "evalue": "",
     "output_type": "error",
     "traceback": [
      "\u001b[0;31m---------------------------------------------------------------------------\u001b[0m",
      "\u001b[0;31mKeyboardInterrupt\u001b[0m                         Traceback (most recent call last)",
      "Cell \u001b[0;32mIn[17], line 26\u001b[0m\n\u001b[1;32m     23\u001b[0m \u001b[38;5;66;03m# response = producer.send(topic=kafka_topic_partition, value=_payload, partition=2)\u001b[39;00m\n\u001b[1;32m     24\u001b[0m \u001b[38;5;66;03m#print(json_data['emp_id'],response.get())\u001b[39;00m\n\u001b[1;32m     25\u001b[0m \u001b[38;5;28mprint\u001b[39m(_payload)\n\u001b[0;32m---> 26\u001b[0m \u001b[43msleep\u001b[49m\u001b[43m(\u001b[49m\u001b[38;5;241;43m5\u001b[39;49m\u001b[43m)\u001b[49m\n",
      "\u001b[0;31mKeyboardInterrupt\u001b[0m: "
     ]
    }
   ],
   "source": [
    "class DataGenerator(object):\n",
    "    @staticmethod\n",
    "    def get_data():\n",
    "        return [\n",
    "                uuid.uuid4().__str__(),\n",
    "                faker.name(),\n",
    "                faker.random_element(elements=('IT', 'HR', 'Sales', 'Marketing')),\n",
    "                faker.random_element(elements=('CA', 'NY', 'TX', 'FL', 'IL', 'RJ')),\n",
    "                faker.random_int(min=10000, max=150000),\n",
    "                faker.random_int(min=18, max=60),\n",
    "                faker.random_int(min=0, max=100000),\n",
    "                faker.unix_time()\n",
    "        ]\n",
    "\n",
    "for i in range(1,400):\n",
    "    columns =  [\"emp_id\", \"employee_name\", \"department\", \"state\", \"salary\", \"age\", \"bonus\", \"ts\", \"new\"]\n",
    "    data_list = DataGenerator.get_data()\n",
    "    json_data = dict(\n",
    "        zip(columns,data_list)\n",
    "    )\n",
    "    _payload = json.dumps(json_data).encode(\"utf-8\")\n",
    "    response = producer.send(topic=kafka_topic_partition, value=_payload)\n",
    "    # response = producer.send(topic=kafka_topic_partition, value=_payload, partition=2)\n",
    "    #print(json_data['emp_id'],response.get())\n",
    "    print(_payload)\n",
    "    sleep(5)"
   ]
  },
  {
   "cell_type": "code",
   "execution_count": null,
   "id": "be1f121f-6f90-441c-a027-c095f5903ac9",
   "metadata": {},
   "outputs": [],
   "source": []
  }
 ],
 "metadata": {
  "kernelspec": {
   "display_name": "Python 3 (ipykernel)",
   "language": "python",
   "name": "python3"
  },
  "language_info": {
   "codemirror_mode": {
    "name": "ipython",
    "version": 3
   },
   "file_extension": ".py",
   "mimetype": "text/x-python",
   "name": "python",
   "nbconvert_exporter": "python",
   "pygments_lexer": "ipython3",
   "version": "3.10.10"
  }
 },
 "nbformat": 4,
 "nbformat_minor": 5
}
