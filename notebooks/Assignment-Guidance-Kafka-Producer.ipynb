{
 "cells": [
  {
   "cell_type": "markdown",
   "metadata": {
    "tags": []
   },
   "source": [
    "## Kafka Producer"
   ]
  },
  {
   "cell_type": "code",
   "execution_count": 1,
   "metadata": {
    "tags": []
   },
   "outputs": [],
   "source": [
    "import json\n",
    "import uuid\n",
    "import os\n",
    "import json\n",
    "from dotenv import load_dotenv\n",
    "from pathlib import Path\n",
    "from kafka import KafkaProducer\n",
    "from kafka.admin import KafkaAdminClient, NewPartitions, NewTopic\n",
    "from faker import Faker\n",
    "from time import sleep"
   ]
  },
  {
   "cell_type": "code",
   "execution_count": 2,
   "metadata": {
    "tags": []
   },
   "outputs": [
    {
     "data": {
      "text/plain": [
       "True"
      ]
     },
     "execution_count": 2,
     "metadata": {},
     "output_type": "execute_result"
    }
   ],
   "source": [
    "dotenv_path = Path('/resources/.env')\n",
    "load_dotenv(dotenv_path=dotenv_path)"
   ]
  },
  {
   "cell_type": "code",
   "execution_count": 3,
   "metadata": {
    "tags": []
   },
   "outputs": [],
   "source": [
    "kafka_host = os.getenv('KAFKA_HOST')"
   ]
  },
  {
   "cell_type": "code",
   "execution_count": 4,
   "metadata": {
    "tags": []
   },
   "outputs": [
    {
     "name": "stdout",
     "output_type": "stream",
     "text": [
      "dataeng-kafka\n"
     ]
    }
   ],
   "source": [
    "print(kafka_host)"
   ]
  },
  {
   "cell_type": "code",
   "execution_count": 5,
   "metadata": {
    "tags": []
   },
   "outputs": [],
   "source": [
    "producer = KafkaProducer(bootstrap_servers=f'{kafka_host}:9092')"
   ]
  },
  {
   "cell_type": "code",
   "execution_count": 6,
   "metadata": {
    "tags": []
   },
   "outputs": [],
   "source": [
    "_instance = Faker()\n",
    "global faker\n",
    "# Inisialisasi Faker\n",
    "faker = Faker()"
   ]
  },
  {
   "cell_type": "code",
   "execution_count": 7,
   "metadata": {
    "tags": []
   },
   "outputs": [
    {
     "name": "stdout",
     "output_type": "stream",
     "text": [
      "Topik 'Data_Transaksi_Keuangan_E-commerce' berhasil dibuat dengan 5 partisi.\n"
     ]
    }
   ],
   "source": [
    "# Membuat instance KafkaAdminClient\n",
    "admin_client = KafkaAdminClient(bootstrap_servers=f'{kafka_host}:9092')\n",
    "\n",
    "# Mendefinisikan topik yang ingin dibuat\n",
    "kafka_topic_partition = \"Data_Transaksi_Keuangan_E-commerce\"\n",
    "partitions = 5  # Jumlah partisi\n",
    "replication_factor = 1  # Faktor replikasi, sesuaikan dengan kebutuhan\n",
    "\n",
    "# Membuat objek NewTopic\n",
    "new_topic = NewTopic(name=kafka_topic_partition, num_partitions=partitions, replication_factor=replication_factor)\n",
    "\n",
    "# Membuat topik\n",
    "try:\n",
    "    admin_client.create_topics([new_topic])\n",
    "    print(f\"Topik '{kafka_topic_partition}' berhasil dibuat dengan {partitions} partisi.\")\n",
    "except Exception as e:\n",
    "    print(f\"Terjadi kesalahan saat membuat topik '{kafka_topic_partition}': {e}\")"
   ]
  },
  {
   "cell_type": "code",
   "execution_count": 8,
   "metadata": {
    "tags": []
   },
   "outputs": [
    {
     "name": "stdout",
     "output_type": "stream",
     "text": [
      "7cd79e36-d4ca-4e80-9b09-2db33c6f2d6c RecordMetadata(topic='Data_Transaksi_Keuangan_E-commerce', partition=4, topic_partition=TopicPartition(topic='Data_Transaksi_Keuangan_E-commerce', partition=4), offset=0, timestamp=1730881650404, log_start_offset=0, checksum=None, serialized_key_size=36, serialized_value_size=643, serialized_header_size=-1)\n",
      "5887c84e-bde2-438b-bb19-b6858cc61a2b RecordMetadata(topic='Data_Transaksi_Keuangan_E-commerce', partition=1, topic_partition=TopicPartition(topic='Data_Transaksi_Keuangan_E-commerce', partition=1), offset=0, timestamp=1730881655410, log_start_offset=0, checksum=None, serialized_key_size=36, serialized_value_size=592, serialized_header_size=-1)\n",
      "089d427e-dae4-4b8d-9dd2-f2176b862644 RecordMetadata(topic='Data_Transaksi_Keuangan_E-commerce', partition=1, topic_partition=TopicPartition(topic='Data_Transaksi_Keuangan_E-commerce', partition=1), offset=1, timestamp=1730881660418, log_start_offset=0, checksum=None, serialized_key_size=36, serialized_value_size=601, serialized_header_size=-1)\n",
      "328c47e6-bec6-4dfd-8eed-07d986892c4e RecordMetadata(topic='Data_Transaksi_Keuangan_E-commerce', partition=4, topic_partition=TopicPartition(topic='Data_Transaksi_Keuangan_E-commerce', partition=4), offset=1, timestamp=1730881665425, log_start_offset=0, checksum=None, serialized_key_size=36, serialized_value_size=629, serialized_header_size=-1)\n",
      "f0dbee3b-3a9d-4cb9-aa3e-6618b3083919 RecordMetadata(topic='Data_Transaksi_Keuangan_E-commerce', partition=0, topic_partition=TopicPartition(topic='Data_Transaksi_Keuangan_E-commerce', partition=0), offset=0, timestamp=1730881670430, log_start_offset=0, checksum=None, serialized_key_size=36, serialized_value_size=650, serialized_header_size=-1)\n",
      "bffc3e5f-c4b1-4d89-babd-fb687855375d RecordMetadata(topic='Data_Transaksi_Keuangan_E-commerce', partition=2, topic_partition=TopicPartition(topic='Data_Transaksi_Keuangan_E-commerce', partition=2), offset=0, timestamp=1730881675435, log_start_offset=0, checksum=None, serialized_key_size=36, serialized_value_size=619, serialized_header_size=-1)\n",
      "94cfe758-6267-4db6-b7a4-6c85cdb7256c RecordMetadata(topic='Data_Transaksi_Keuangan_E-commerce', partition=0, topic_partition=TopicPartition(topic='Data_Transaksi_Keuangan_E-commerce', partition=0), offset=1, timestamp=1730881680442, log_start_offset=0, checksum=None, serialized_key_size=36, serialized_value_size=618, serialized_header_size=-1)\n",
      "3f8aa6ef-72e9-4ed3-8d02-20f902c5169a RecordMetadata(topic='Data_Transaksi_Keuangan_E-commerce', partition=0, topic_partition=TopicPartition(topic='Data_Transaksi_Keuangan_E-commerce', partition=0), offset=2, timestamp=1730881685450, log_start_offset=0, checksum=None, serialized_key_size=36, serialized_value_size=622, serialized_header_size=-1)\n",
      "c93739b4-7cde-4d3d-8c3c-6f5acf20313f RecordMetadata(topic='Data_Transaksi_Keuangan_E-commerce', partition=2, topic_partition=TopicPartition(topic='Data_Transaksi_Keuangan_E-commerce', partition=2), offset=1, timestamp=1730881690457, log_start_offset=0, checksum=None, serialized_key_size=36, serialized_value_size=594, serialized_header_size=-1)\n",
      "b0cbeb46-4bad-4fa5-99dc-17cf0e4a7fac RecordMetadata(topic='Data_Transaksi_Keuangan_E-commerce', partition=3, topic_partition=TopicPartition(topic='Data_Transaksi_Keuangan_E-commerce', partition=3), offset=0, timestamp=1730881695465, log_start_offset=0, checksum=None, serialized_key_size=36, serialized_value_size=605, serialized_header_size=-1)\n",
      "ef483d19-1b26-4680-99f8-6d82b035a97b RecordMetadata(topic='Data_Transaksi_Keuangan_E-commerce', partition=4, topic_partition=TopicPartition(topic='Data_Transaksi_Keuangan_E-commerce', partition=4), offset=2, timestamp=1730881700473, log_start_offset=0, checksum=None, serialized_key_size=36, serialized_value_size=605, serialized_header_size=-1)\n",
      "80917a14-4adb-4315-b076-6cb3648642c4 RecordMetadata(topic='Data_Transaksi_Keuangan_E-commerce', partition=1, topic_partition=TopicPartition(topic='Data_Transaksi_Keuangan_E-commerce', partition=1), offset=2, timestamp=1730881705481, log_start_offset=0, checksum=None, serialized_key_size=36, serialized_value_size=625, serialized_header_size=-1)\n",
      "87bf4825-9e58-4033-aac8-2b63dc022e76 RecordMetadata(topic='Data_Transaksi_Keuangan_E-commerce', partition=0, topic_partition=TopicPartition(topic='Data_Transaksi_Keuangan_E-commerce', partition=0), offset=3, timestamp=1730881710488, log_start_offset=0, checksum=None, serialized_key_size=36, serialized_value_size=621, serialized_header_size=-1)\n",
      "7177fb55-1ea5-4594-92af-916e5af6addf RecordMetadata(topic='Data_Transaksi_Keuangan_E-commerce', partition=3, topic_partition=TopicPartition(topic='Data_Transaksi_Keuangan_E-commerce', partition=3), offset=1, timestamp=1730881715496, log_start_offset=0, checksum=None, serialized_key_size=36, serialized_value_size=609, serialized_header_size=-1)\n",
      "769f6066-80e5-45a3-ad3b-0c5dcc5cbea8 RecordMetadata(topic='Data_Transaksi_Keuangan_E-commerce', partition=0, topic_partition=TopicPartition(topic='Data_Transaksi_Keuangan_E-commerce', partition=0), offset=4, timestamp=1730881720504, log_start_offset=0, checksum=None, serialized_key_size=36, serialized_value_size=609, serialized_header_size=-1)\n",
      "d6bac41e-225e-413b-b930-f12d86eeada4 RecordMetadata(topic='Data_Transaksi_Keuangan_E-commerce', partition=4, topic_partition=TopicPartition(topic='Data_Transaksi_Keuangan_E-commerce', partition=4), offset=3, timestamp=1730881725511, log_start_offset=0, checksum=None, serialized_key_size=36, serialized_value_size=616, serialized_header_size=-1)\n",
      "45e58be1-a8db-436d-8418-a2678b1a35a7 RecordMetadata(topic='Data_Transaksi_Keuangan_E-commerce', partition=2, topic_partition=TopicPartition(topic='Data_Transaksi_Keuangan_E-commerce', partition=2), offset=2, timestamp=1730881730519, log_start_offset=0, checksum=None, serialized_key_size=36, serialized_value_size=603, serialized_header_size=-1)\n",
      "33a80d02-ded8-49ff-bba3-c1d69b79b557 RecordMetadata(topic='Data_Transaksi_Keuangan_E-commerce', partition=4, topic_partition=TopicPartition(topic='Data_Transaksi_Keuangan_E-commerce', partition=4), offset=4, timestamp=1730881735525, log_start_offset=0, checksum=None, serialized_key_size=36, serialized_value_size=630, serialized_header_size=-1)\n",
      "41f7ec5f-9bed-4dd8-9a07-eee6afcb8215 RecordMetadata(topic='Data_Transaksi_Keuangan_E-commerce', partition=3, topic_partition=TopicPartition(topic='Data_Transaksi_Keuangan_E-commerce', partition=3), offset=2, timestamp=1730881740532, log_start_offset=0, checksum=None, serialized_key_size=36, serialized_value_size=653, serialized_header_size=-1)\n",
      "5aa77a9b-c223-4e3f-b175-384fb59406d7 RecordMetadata(topic='Data_Transaksi_Keuangan_E-commerce', partition=4, topic_partition=TopicPartition(topic='Data_Transaksi_Keuangan_E-commerce', partition=4), offset=5, timestamp=1730881745540, log_start_offset=0, checksum=None, serialized_key_size=36, serialized_value_size=604, serialized_header_size=-1)\n",
      "b10a25ae-40d3-4a17-aaf2-b08c15f3881c RecordMetadata(topic='Data_Transaksi_Keuangan_E-commerce', partition=1, topic_partition=TopicPartition(topic='Data_Transaksi_Keuangan_E-commerce', partition=1), offset=3, timestamp=1730881750549, log_start_offset=0, checksum=None, serialized_key_size=36, serialized_value_size=621, serialized_header_size=-1)\n",
      "12699819-42e0-437e-8538-231949ffbe26 RecordMetadata(topic='Data_Transaksi_Keuangan_E-commerce', partition=4, topic_partition=TopicPartition(topic='Data_Transaksi_Keuangan_E-commerce', partition=4), offset=6, timestamp=1730881755557, log_start_offset=0, checksum=None, serialized_key_size=36, serialized_value_size=617, serialized_header_size=-1)\n",
      "5b226c26-873e-49a7-8a47-08f9867f09bb RecordMetadata(topic='Data_Transaksi_Keuangan_E-commerce', partition=3, topic_partition=TopicPartition(topic='Data_Transaksi_Keuangan_E-commerce', partition=3), offset=3, timestamp=1730881760564, log_start_offset=0, checksum=None, serialized_key_size=36, serialized_value_size=603, serialized_header_size=-1)\n",
      "8d8342ea-d933-454d-b391-c0a5248cfc8e RecordMetadata(topic='Data_Transaksi_Keuangan_E-commerce', partition=1, topic_partition=TopicPartition(topic='Data_Transaksi_Keuangan_E-commerce', partition=1), offset=4, timestamp=1730881765573, log_start_offset=0, checksum=None, serialized_key_size=36, serialized_value_size=612, serialized_header_size=-1)\n",
      "b4a463cd-8557-4dc3-9480-d055e8baed0f RecordMetadata(topic='Data_Transaksi_Keuangan_E-commerce', partition=2, topic_partition=TopicPartition(topic='Data_Transaksi_Keuangan_E-commerce', partition=2), offset=3, timestamp=1730881770581, log_start_offset=0, checksum=None, serialized_key_size=36, serialized_value_size=631, serialized_header_size=-1)\n",
      "a296c8cd-5a87-42d2-b468-db49055692f1 RecordMetadata(topic='Data_Transaksi_Keuangan_E-commerce', partition=1, topic_partition=TopicPartition(topic='Data_Transaksi_Keuangan_E-commerce', partition=1), offset=5, timestamp=1730881775588, log_start_offset=0, checksum=None, serialized_key_size=36, serialized_value_size=600, serialized_header_size=-1)\n",
      "55007dc5-cd45-428b-a03f-ebd055f31155 RecordMetadata(topic='Data_Transaksi_Keuangan_E-commerce', partition=0, topic_partition=TopicPartition(topic='Data_Transaksi_Keuangan_E-commerce', partition=0), offset=5, timestamp=1730881780596, log_start_offset=0, checksum=None, serialized_key_size=36, serialized_value_size=626, serialized_header_size=-1)\n",
      "3c29cd9e-5fae-485e-bba8-912696b58c9d RecordMetadata(topic='Data_Transaksi_Keuangan_E-commerce', partition=0, topic_partition=TopicPartition(topic='Data_Transaksi_Keuangan_E-commerce', partition=0), offset=6, timestamp=1730881785604, log_start_offset=0, checksum=None, serialized_key_size=36, serialized_value_size=617, serialized_header_size=-1)\n",
      "4944bbbe-0563-4da1-861d-0838983de716 RecordMetadata(topic='Data_Transaksi_Keuangan_E-commerce', partition=4, topic_partition=TopicPartition(topic='Data_Transaksi_Keuangan_E-commerce', partition=4), offset=7, timestamp=1730881790611, log_start_offset=0, checksum=None, serialized_key_size=36, serialized_value_size=609, serialized_header_size=-1)\n",
      "758081a1-4942-4091-87c9-ba657da629fb RecordMetadata(topic='Data_Transaksi_Keuangan_E-commerce', partition=4, topic_partition=TopicPartition(topic='Data_Transaksi_Keuangan_E-commerce', partition=4), offset=8, timestamp=1730881795619, log_start_offset=0, checksum=None, serialized_key_size=36, serialized_value_size=611, serialized_header_size=-1)\n",
      "f6e770be-64a2-4a96-b996-4774e74a48f3 RecordMetadata(topic='Data_Transaksi_Keuangan_E-commerce', partition=3, topic_partition=TopicPartition(topic='Data_Transaksi_Keuangan_E-commerce', partition=3), offset=4, timestamp=1730881800625, log_start_offset=0, checksum=None, serialized_key_size=36, serialized_value_size=606, serialized_header_size=-1)\n",
      "f8058982-c0db-4f5a-9639-f15f3bf54a45 RecordMetadata(topic='Data_Transaksi_Keuangan_E-commerce', partition=1, topic_partition=TopicPartition(topic='Data_Transaksi_Keuangan_E-commerce', partition=1), offset=6, timestamp=1730881805633, log_start_offset=0, checksum=None, serialized_key_size=36, serialized_value_size=617, serialized_header_size=-1)\n",
      "9719a1be-fe02-46a8-a5a5-85b40111f979 RecordMetadata(topic='Data_Transaksi_Keuangan_E-commerce', partition=1, topic_partition=TopicPartition(topic='Data_Transaksi_Keuangan_E-commerce', partition=1), offset=7, timestamp=1730881810641, log_start_offset=0, checksum=None, serialized_key_size=36, serialized_value_size=617, serialized_header_size=-1)\n",
      "9bb2a97a-7ddb-4994-bf6b-a091ac45869f RecordMetadata(topic='Data_Transaksi_Keuangan_E-commerce', partition=3, topic_partition=TopicPartition(topic='Data_Transaksi_Keuangan_E-commerce', partition=3), offset=5, timestamp=1730881815650, log_start_offset=0, checksum=None, serialized_key_size=36, serialized_value_size=642, serialized_header_size=-1)\n",
      "7f204a51-8475-44de-8c10-71f0f47e193e RecordMetadata(topic='Data_Transaksi_Keuangan_E-commerce', partition=4, topic_partition=TopicPartition(topic='Data_Transaksi_Keuangan_E-commerce', partition=4), offset=9, timestamp=1730881820658, log_start_offset=0, checksum=None, serialized_key_size=36, serialized_value_size=615, serialized_header_size=-1)\n",
      "b02448a0-7768-4fcb-8893-409910dc3e32 RecordMetadata(topic='Data_Transaksi_Keuangan_E-commerce', partition=2, topic_partition=TopicPartition(topic='Data_Transaksi_Keuangan_E-commerce', partition=2), offset=4, timestamp=1730881825665, log_start_offset=0, checksum=None, serialized_key_size=36, serialized_value_size=602, serialized_header_size=-1)\n",
      "574130ab-20ce-42dd-a9c0-11a13407dc84 RecordMetadata(topic='Data_Transaksi_Keuangan_E-commerce', partition=2, topic_partition=TopicPartition(topic='Data_Transaksi_Keuangan_E-commerce', partition=2), offset=5, timestamp=1730881830674, log_start_offset=0, checksum=None, serialized_key_size=36, serialized_value_size=629, serialized_header_size=-1)\n",
      "fc4b891d-3bc9-48d9-acb5-138dfbb15781 RecordMetadata(topic='Data_Transaksi_Keuangan_E-commerce', partition=0, topic_partition=TopicPartition(topic='Data_Transaksi_Keuangan_E-commerce', partition=0), offset=7, timestamp=1730881835680, log_start_offset=0, checksum=None, serialized_key_size=36, serialized_value_size=619, serialized_header_size=-1)\n",
      "a267f3f6-cab9-455e-8991-0b743ddd2c4d RecordMetadata(topic='Data_Transaksi_Keuangan_E-commerce', partition=3, topic_partition=TopicPartition(topic='Data_Transaksi_Keuangan_E-commerce', partition=3), offset=6, timestamp=1730881840687, log_start_offset=0, checksum=None, serialized_key_size=36, serialized_value_size=595, serialized_header_size=-1)\n",
      "e4275105-dd4c-4e03-b848-654f92f7671a RecordMetadata(topic='Data_Transaksi_Keuangan_E-commerce', partition=4, topic_partition=TopicPartition(topic='Data_Transaksi_Keuangan_E-commerce', partition=4), offset=10, timestamp=1730881845695, log_start_offset=0, checksum=None, serialized_key_size=36, serialized_value_size=640, serialized_header_size=-1)\n",
      "010ea3db-0053-48ac-8ba8-65de28e181e2 RecordMetadata(topic='Data_Transaksi_Keuangan_E-commerce', partition=4, topic_partition=TopicPartition(topic='Data_Transaksi_Keuangan_E-commerce', partition=4), offset=11, timestamp=1730881850700, log_start_offset=0, checksum=None, serialized_key_size=36, serialized_value_size=608, serialized_header_size=-1)\n",
      "f89af88f-d8b1-4461-9ce3-c9fb86ad6b78 RecordMetadata(topic='Data_Transaksi_Keuangan_E-commerce', partition=2, topic_partition=TopicPartition(topic='Data_Transaksi_Keuangan_E-commerce', partition=2), offset=6, timestamp=1730881855708, log_start_offset=0, checksum=None, serialized_key_size=36, serialized_value_size=612, serialized_header_size=-1)\n",
      "e9b6e93a-0efa-457c-967c-e74e2532d9c6 RecordMetadata(topic='Data_Transaksi_Keuangan_E-commerce', partition=3, topic_partition=TopicPartition(topic='Data_Transaksi_Keuangan_E-commerce', partition=3), offset=7, timestamp=1730881860716, log_start_offset=0, checksum=None, serialized_key_size=36, serialized_value_size=625, serialized_header_size=-1)\n",
      "09933b15-8e65-4bb6-a1c1-7c1944d70ca0 RecordMetadata(topic='Data_Transaksi_Keuangan_E-commerce', partition=1, topic_partition=TopicPartition(topic='Data_Transaksi_Keuangan_E-commerce', partition=1), offset=8, timestamp=1730881865720, log_start_offset=0, checksum=None, serialized_key_size=36, serialized_value_size=624, serialized_header_size=-1)\n",
      "1a054cce-6a9c-4988-a9c7-cffcfba00d2d RecordMetadata(topic='Data_Transaksi_Keuangan_E-commerce', partition=4, topic_partition=TopicPartition(topic='Data_Transaksi_Keuangan_E-commerce', partition=4), offset=12, timestamp=1730881870729, log_start_offset=0, checksum=None, serialized_key_size=36, serialized_value_size=602, serialized_header_size=-1)\n",
      "66002547-13b4-48a9-bd45-82dc3a9ea602 RecordMetadata(topic='Data_Transaksi_Keuangan_E-commerce', partition=2, topic_partition=TopicPartition(topic='Data_Transaksi_Keuangan_E-commerce', partition=2), offset=7, timestamp=1730881875737, log_start_offset=0, checksum=None, serialized_key_size=36, serialized_value_size=613, serialized_header_size=-1)\n",
      "859a2eb9-f74e-4eda-a675-6eca5d504e48 RecordMetadata(topic='Data_Transaksi_Keuangan_E-commerce', partition=3, topic_partition=TopicPartition(topic='Data_Transaksi_Keuangan_E-commerce', partition=3), offset=8, timestamp=1730881880746, log_start_offset=0, checksum=None, serialized_key_size=36, serialized_value_size=599, serialized_header_size=-1)\n",
      "26cc9fe8-9145-48c0-a6e3-16795bbee940 RecordMetadata(topic='Data_Transaksi_Keuangan_E-commerce', partition=0, topic_partition=TopicPartition(topic='Data_Transaksi_Keuangan_E-commerce', partition=0), offset=8, timestamp=1730881885755, log_start_offset=0, checksum=None, serialized_key_size=36, serialized_value_size=622, serialized_header_size=-1)\n",
      "918b9358-cf6d-41eb-9c05-cbedaa001a14 RecordMetadata(topic='Data_Transaksi_Keuangan_E-commerce', partition=0, topic_partition=TopicPartition(topic='Data_Transaksi_Keuangan_E-commerce', partition=0), offset=9, timestamp=1730881890763, log_start_offset=0, checksum=None, serialized_key_size=36, serialized_value_size=589, serialized_header_size=-1)\n",
      "361db650-9208-451b-a256-7cc26d2a92e5 RecordMetadata(topic='Data_Transaksi_Keuangan_E-commerce', partition=2, topic_partition=TopicPartition(topic='Data_Transaksi_Keuangan_E-commerce', partition=2), offset=8, timestamp=1730881895771, log_start_offset=0, checksum=None, serialized_key_size=36, serialized_value_size=611, serialized_header_size=-1)\n",
      "0cae5768-2f4d-428c-afaf-5c1dee2a2a9e RecordMetadata(topic='Data_Transaksi_Keuangan_E-commerce', partition=0, topic_partition=TopicPartition(topic='Data_Transaksi_Keuangan_E-commerce', partition=0), offset=10, timestamp=1730881900780, log_start_offset=0, checksum=None, serialized_key_size=36, serialized_value_size=610, serialized_header_size=-1)\n",
      "caf7581f-5361-44a7-8c22-bd715d740421 RecordMetadata(topic='Data_Transaksi_Keuangan_E-commerce', partition=3, topic_partition=TopicPartition(topic='Data_Transaksi_Keuangan_E-commerce', partition=3), offset=9, timestamp=1730881905787, log_start_offset=0, checksum=None, serialized_key_size=36, serialized_value_size=599, serialized_header_size=-1)\n",
      "d05d9125-5108-43ad-a296-c8e091e519ab RecordMetadata(topic='Data_Transaksi_Keuangan_E-commerce', partition=1, topic_partition=TopicPartition(topic='Data_Transaksi_Keuangan_E-commerce', partition=1), offset=9, timestamp=1730881910796, log_start_offset=0, checksum=None, serialized_key_size=36, serialized_value_size=605, serialized_header_size=-1)\n",
      "03900583-3915-4542-8de6-ab19c33de509 RecordMetadata(topic='Data_Transaksi_Keuangan_E-commerce', partition=3, topic_partition=TopicPartition(topic='Data_Transaksi_Keuangan_E-commerce', partition=3), offset=10, timestamp=1730881915802, log_start_offset=0, checksum=None, serialized_key_size=36, serialized_value_size=593, serialized_header_size=-1)\n",
      "7f263a51-d845-4020-86fa-e10bd35d85ab RecordMetadata(topic='Data_Transaksi_Keuangan_E-commerce', partition=0, topic_partition=TopicPartition(topic='Data_Transaksi_Keuangan_E-commerce', partition=0), offset=11, timestamp=1730881920809, log_start_offset=0, checksum=None, serialized_key_size=36, serialized_value_size=616, serialized_header_size=-1)\n",
      "6b52ab8b-1b97-46c1-a2f3-da003401bed4 RecordMetadata(topic='Data_Transaksi_Keuangan_E-commerce', partition=2, topic_partition=TopicPartition(topic='Data_Transaksi_Keuangan_E-commerce', partition=2), offset=9, timestamp=1730881925817, log_start_offset=0, checksum=None, serialized_key_size=36, serialized_value_size=623, serialized_header_size=-1)\n",
      "9572bf5b-dfef-4e9f-a1a6-97dfe690713a RecordMetadata(topic='Data_Transaksi_Keuangan_E-commerce', partition=0, topic_partition=TopicPartition(topic='Data_Transaksi_Keuangan_E-commerce', partition=0), offset=12, timestamp=1730881930825, log_start_offset=0, checksum=None, serialized_key_size=36, serialized_value_size=612, serialized_header_size=-1)\n",
      "9a19021b-569e-47ad-8884-0a4ce36ae5f2 RecordMetadata(topic='Data_Transaksi_Keuangan_E-commerce', partition=4, topic_partition=TopicPartition(topic='Data_Transaksi_Keuangan_E-commerce', partition=4), offset=13, timestamp=1730881935833, log_start_offset=0, checksum=None, serialized_key_size=36, serialized_value_size=606, serialized_header_size=-1)\n",
      "e1ced042-2446-44c0-8afc-f7a4bb2adc49 RecordMetadata(topic='Data_Transaksi_Keuangan_E-commerce', partition=4, topic_partition=TopicPartition(topic='Data_Transaksi_Keuangan_E-commerce', partition=4), offset=14, timestamp=1730881940840, log_start_offset=0, checksum=None, serialized_key_size=36, serialized_value_size=620, serialized_header_size=-1)\n",
      "0c5f1b08-6b74-475f-9b9b-9204ccea7436 RecordMetadata(topic='Data_Transaksi_Keuangan_E-commerce', partition=0, topic_partition=TopicPartition(topic='Data_Transaksi_Keuangan_E-commerce', partition=0), offset=13, timestamp=1730881945848, log_start_offset=0, checksum=None, serialized_key_size=36, serialized_value_size=621, serialized_header_size=-1)\n",
      "71d745d9-c811-4718-93fa-c8fd1e89f75c RecordMetadata(topic='Data_Transaksi_Keuangan_E-commerce', partition=1, topic_partition=TopicPartition(topic='Data_Transaksi_Keuangan_E-commerce', partition=1), offset=10, timestamp=1730881950856, log_start_offset=0, checksum=None, serialized_key_size=36, serialized_value_size=632, serialized_header_size=-1)\n",
      "8fb8104f-8dd6-487a-8e40-b7ad14f8a534 RecordMetadata(topic='Data_Transaksi_Keuangan_E-commerce', partition=0, topic_partition=TopicPartition(topic='Data_Transaksi_Keuangan_E-commerce', partition=0), offset=14, timestamp=1730881955864, log_start_offset=0, checksum=None, serialized_key_size=36, serialized_value_size=616, serialized_header_size=-1)\n",
      "05f98f4a-c798-4bac-b3f2-1e58df0d8d52 RecordMetadata(topic='Data_Transaksi_Keuangan_E-commerce', partition=4, topic_partition=TopicPartition(topic='Data_Transaksi_Keuangan_E-commerce', partition=4), offset=15, timestamp=1730881960869, log_start_offset=0, checksum=None, serialized_key_size=36, serialized_value_size=623, serialized_header_size=-1)\n",
      "bc6f5bc9-98c0-4adb-a081-2afe147103ff RecordMetadata(topic='Data_Transaksi_Keuangan_E-commerce', partition=4, topic_partition=TopicPartition(topic='Data_Transaksi_Keuangan_E-commerce', partition=4), offset=16, timestamp=1730881965877, log_start_offset=0, checksum=None, serialized_key_size=36, serialized_value_size=614, serialized_header_size=-1)\n",
      "57d003a9-6585-460e-b97f-63f5c43f9c6f RecordMetadata(topic='Data_Transaksi_Keuangan_E-commerce', partition=4, topic_partition=TopicPartition(topic='Data_Transaksi_Keuangan_E-commerce', partition=4), offset=17, timestamp=1730881970882, log_start_offset=0, checksum=None, serialized_key_size=36, serialized_value_size=609, serialized_header_size=-1)\n",
      "9e87620e-22de-4eb0-b544-e259aa99e2b4 RecordMetadata(topic='Data_Transaksi_Keuangan_E-commerce', partition=4, topic_partition=TopicPartition(topic='Data_Transaksi_Keuangan_E-commerce', partition=4), offset=18, timestamp=1730881975890, log_start_offset=0, checksum=None, serialized_key_size=36, serialized_value_size=611, serialized_header_size=-1)\n",
      "4aac71cc-aad2-45e2-b896-d407de95cd0b RecordMetadata(topic='Data_Transaksi_Keuangan_E-commerce', partition=3, topic_partition=TopicPartition(topic='Data_Transaksi_Keuangan_E-commerce', partition=3), offset=11, timestamp=1730881980896, log_start_offset=0, checksum=None, serialized_key_size=36, serialized_value_size=624, serialized_header_size=-1)\n",
      "bd706dbd-5c80-4c7f-9896-92030eb5c368 RecordMetadata(topic='Data_Transaksi_Keuangan_E-commerce', partition=2, topic_partition=TopicPartition(topic='Data_Transaksi_Keuangan_E-commerce', partition=2), offset=10, timestamp=1730881985903, log_start_offset=0, checksum=None, serialized_key_size=36, serialized_value_size=615, serialized_header_size=-1)\n",
      "c73df56e-071a-4c3a-a72e-3c3f3687b704 RecordMetadata(topic='Data_Transaksi_Keuangan_E-commerce', partition=3, topic_partition=TopicPartition(topic='Data_Transaksi_Keuangan_E-commerce', partition=3), offset=12, timestamp=1730881990909, log_start_offset=0, checksum=None, serialized_key_size=36, serialized_value_size=614, serialized_header_size=-1)\n",
      "ec03c129-84f2-4cb0-b7c4-789bf8f5cfc8 RecordMetadata(topic='Data_Transaksi_Keuangan_E-commerce', partition=4, topic_partition=TopicPartition(topic='Data_Transaksi_Keuangan_E-commerce', partition=4), offset=19, timestamp=1730881995917, log_start_offset=0, checksum=None, serialized_key_size=36, serialized_value_size=626, serialized_header_size=-1)\n",
      "abf70f5e-b37b-44a9-81c4-63052a0e6d05 RecordMetadata(topic='Data_Transaksi_Keuangan_E-commerce', partition=4, topic_partition=TopicPartition(topic='Data_Transaksi_Keuangan_E-commerce', partition=4), offset=20, timestamp=1730882000922, log_start_offset=0, checksum=None, serialized_key_size=36, serialized_value_size=610, serialized_header_size=-1)\n"
     ]
    },
    {
     "ename": "KeyboardInterrupt",
     "evalue": "",
     "output_type": "error",
     "traceback": [
      "\u001b[0;31m---------------------------------------------------------------------------\u001b[0m",
      "\u001b[0;31mKeyboardInterrupt\u001b[0m                         Traceback (most recent call last)",
      "Cell \u001b[0;32mIn[8], line 75\u001b[0m\n\u001b[1;32m     70\u001b[0m \u001b[38;5;28mprint\u001b[39m(json_data[\u001b[38;5;124m'\u001b[39m\u001b[38;5;124mtransaction_id\u001b[39m\u001b[38;5;124m'\u001b[39m], response\u001b[38;5;241m.\u001b[39mget())\n\u001b[1;32m     72\u001b[0m \u001b[38;5;66;03m# Untuk testing, kita hanya akan print data\u001b[39;00m\n\u001b[1;32m     73\u001b[0m \u001b[38;5;66;03m# print(json_data)\u001b[39;00m\n\u001b[0;32m---> 75\u001b[0m \u001b[43msleep\u001b[49m\u001b[43m(\u001b[49m\u001b[38;5;241;43m5\u001b[39;49m\u001b[43m)\u001b[49m  \u001b[38;5;66;03m# Jeda 5 detik sebelum mengirim data berikutnya\u001b[39;00m\n",
      "\u001b[0;31mKeyboardInterrupt\u001b[0m: "
     ]
    }
   ],
   "source": [
    "# Di sini diasumsikan Anda sudah memiliki producer Kafka dan topik Kafka\n",
    "# producer = <kafka_producer_instance>\n",
    "# kafka_topic_partition = \"<kafka_topic_name>\"\n",
    "\n",
    "kafka_topic_partition = \"Data_Transaksi_Keuangan_E-commerce\"\n",
    "\n",
    "class DataGenerator(object):\n",
    "    @staticmethod\n",
    "    def get_data():\n",
    "        # Generate individual data items\n",
    "        transaction_id = uuid.uuid4().__str__()  # transaction_id\n",
    "        timestamp = faker.date_time_this_year().isoformat()  # timestamp\n",
    "        user_id = faker.uuid4()  # user_id\n",
    "        merchant_id = faker.uuid4()  # merchant_id\n",
    "        amount = round(faker.random_number(digits=5) + faker.random.random(), 2)  # amount\n",
    "        age = faker.random_int(min=19, max=65)  # age\n",
    "        gender = faker.random_element(elements=('Male', 'Female'))  # gender\n",
    "        phone_number = faker.phone_number()  # phone_number\n",
    "        email = faker.email()  # email\n",
    "        currency = faker.currency_code()  # currency\n",
    "        location = faker.city()  # location\n",
    "        country = faker.country()  # country\n",
    "        payment_method = faker.random_element(elements=(\"Credit Card\", \"Debit Card\", \"PayPal\", \"Local Bank Transfer\", \"Foreign Bank Transfer\"))  # payment_method\n",
    "        product_id = faker.uuid4()  # product_id\n",
    "        product_category = faker.random_element(elements=( \"Electronics and Gadgets\",\n",
    "                                                            \"Fashion and Accessories\",\n",
    "                                                            \"Health and Beauty\",\n",
    "                                                            \"Home and Furniture\",\n",
    "                                                            \"Food and Beverages\",\n",
    "                                                            \"Hobbies and Collectibles\",\n",
    "                                                            \"Sports and Outdoors\",\n",
    "                                                            \"Automotive\",\n",
    "                                                            \"Baby and Kids Products\",\n",
    "                                                            \"Office and School Supplies\",\n",
    "                                                            \"Kitchen and Cooking Supplies\",\n",
    "                                                            \"Digital Products and Services\",\n",
    "                                                            \"Pet Supplies\",\n",
    "                                                            \"Real Estate and Property\",\n",
    "                                                            \"Services and Consultancy\" ))  # product_category\n",
    "        quantity = faker.random_int(min=1, max=50)  # quantity\n",
    "        discount = round(faker.random_number(digits=2), 2)  # discount\n",
    "        tax = round(faker.random_number(digits=2), 2)  # tax\n",
    "        shipping_cost = round(faker.random_number(digits=2), 2)  # shipping_cost\n",
    "\n",
    "        # Hitung total_cost di sini\n",
    "        total_cost = round(amount - discount + tax + shipping_cost, 2)  # Hitung total_cost\n",
    "        \n",
    "        return [\n",
    "            transaction_id, timestamp, user_id, merchant_id, amount, age, gender, \n",
    "            phone_number, email, currency, location, country, payment_method, product_id, \n",
    "            product_category, quantity, discount, tax, shipping_cost, total_cost  # total_cost sudah dihitung dan ditambahkan di sini\n",
    "        ]\n",
    "\n",
    "# Loop untuk mengirim data ke Kafka\n",
    "for x in range(1, 500):\n",
    "    columns = [\n",
    "        \"transaction_id\", \"timestamp\", \"user_id\", \"merchant_id\", \"amount\", \"age\", \"gender\", \n",
    "        \"phone_number\", \"email\",\"currency\", \"location\", \"country\", \"payment_method\", \"product_id\", \n",
    "        \"product_category\", \"quantity\", \"discount\", \"tax\", \"shipping_cost\", \"total_cost\"\n",
    "    ]\n",
    "    data_list = DataGenerator.get_data()\n",
    "    json_data = dict(zip(columns, data_list))\n",
    "    _payload = json.dumps(json_data).encode(\"utf-8\")\n",
    "    \n",
    "    # Menggunakan transaction_id sebagai kunci untuk menentukan partisi\n",
    "    key = json_data['transaction_id'].encode(\"utf-8\")  # Kunci sebagai bytes\n",
    "    \n",
    "    # Mengirim data ke Kafka (pastikan `producer` dan `kafka_topic_partition` sudah didefinisikan)\n",
    "    response = producer.send(topic=kafka_topic_partition, value=_payload, key=key)\n",
    "    print(json_data['transaction_id'], response.get())\n",
    "    \n",
    "    # Untuk testing, kita hanya akan print data\n",
    "    # print(json_data)\n",
    "    \n",
    "    sleep(5)  # Jeda 5 detik sebelum mengirim data berikutnya\n"
   ]
  },
  {
   "cell_type": "code",
   "execution_count": null,
   "metadata": {},
   "outputs": [],
   "source": []
  }
 ],
 "metadata": {
  "kernelspec": {
   "display_name": "Python 3 (ipykernel)",
   "language": "python",
   "name": "python3"
  },
  "language_info": {
   "codemirror_mode": {
    "name": "ipython",
    "version": 3
   },
   "file_extension": ".py",
   "mimetype": "text/x-python",
   "name": "python",
   "nbconvert_exporter": "python",
   "pygments_lexer": "ipython3",
   "version": "3.10.10"
  }
 },
 "nbformat": 4,
 "nbformat_minor": 4
}
