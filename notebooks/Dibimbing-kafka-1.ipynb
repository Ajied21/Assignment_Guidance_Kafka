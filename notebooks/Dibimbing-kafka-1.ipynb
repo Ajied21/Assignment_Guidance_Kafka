{
 "cells": [
  {
   "cell_type": "code",
   "execution_count": 11,
   "id": "25846da4-c6b2-46a5-b7d1-9809732bb1b9",
   "metadata": {
    "tags": []
   },
   "outputs": [],
   "source": [
    "import json\n",
    "import uuid\n",
    "import os\n",
    "import json\n",
    "from dotenv import load_dotenv\n",
    "from pathlib import Path\n",
    "from kafka import KafkaProducer\n",
    "from faker import Faker\n",
    "from time import sleep"
   ]
  },
  {
   "cell_type": "code",
   "execution_count": 12,
   "id": "42f97822-c06f-47e0-a0a4-87a7bf1d95a9",
   "metadata": {
    "tags": []
   },
   "outputs": [
    {
     "data": {
      "text/plain": [
       "True"
      ]
     },
     "execution_count": 12,
     "metadata": {},
     "output_type": "execute_result"
    }
   ],
   "source": [
    "dotenv_path = Path('/resources/.env')\n",
    "load_dotenv(dotenv_path=dotenv_path)"
   ]
  },
  {
   "cell_type": "code",
   "execution_count": 18,
   "id": "3f89f5a9-8c75-4a38-b48d-ad72c6a13c41",
   "metadata": {
    "tags": []
   },
   "outputs": [],
   "source": [
    "kafka_host = os.getenv('KAFKA_HOST')\n",
    "kafka_topic = os.getenv('KAFKA_TOPIC_NAME')\n",
    "kafka_topic_partition = os.getenv('KAFKA_TOPIC_NAME')+\"-1\"\n",
    "kafka_topic_partition = \"dataset\""
   ]
  },
  {
   "cell_type": "code",
   "execution_count": 19,
   "id": "a4a59d22-69c5-4e0a-b1e2-d0d77867c45b",
   "metadata": {
    "tags": []
   },
   "outputs": [
    {
     "name": "stdout",
     "output_type": "stream",
     "text": [
      "dataeng-kafka\n"
     ]
    }
   ],
   "source": [
    "print(kafka_host)"
   ]
  },
  {
   "cell_type": "code",
   "execution_count": 20,
   "id": "8515096d-3bc6-4905-98f5-eb1e6d7bfa4c",
   "metadata": {
    "tags": []
   },
   "outputs": [],
   "source": [
    "producer = KafkaProducer(bootstrap_servers=f'{kafka_host}:9092')"
   ]
  },
  {
   "cell_type": "code",
   "execution_count": 21,
   "id": "78075b5c-08c8-4c43-99a1-0689a87414c4",
   "metadata": {
    "tags": []
   },
   "outputs": [],
   "source": [
    "_instance = Faker()\n",
    "global faker\n",
    "faker = Faker()"
   ]
  },
  {
   "cell_type": "code",
   "execution_count": 22,
   "id": "503ade79-0f77-4970-8e04-ecefce397398",
   "metadata": {
    "tags": []
   },
   "outputs": [
    {
     "name": "stdout",
     "output_type": "stream",
     "text": [
      "daf726ce-391c-4cad-a2f2-967d055fd26a RecordMetadata(topic='dataset', partition=0, topic_partition=TopicPartition(topic='dataset', partition=0), offset=0, timestamp=1730713934547, log_start_offset=0, checksum=None, serialized_key_size=-1, serialized_value_size=184, serialized_header_size=-1)\n",
      "3cf2d302-e454-4439-b26c-6e5d77011b74 RecordMetadata(topic='dataset', partition=0, topic_partition=TopicPartition(topic='dataset', partition=0), offset=1, timestamp=1730713939556, log_start_offset=0, checksum=None, serialized_key_size=-1, serialized_value_size=183, serialized_header_size=-1)\n",
      "f8399aa4-5339-41b9-910e-0e143e6a32ed RecordMetadata(topic='dataset', partition=0, topic_partition=TopicPartition(topic='dataset', partition=0), offset=2, timestamp=1730713944566, log_start_offset=0, checksum=None, serialized_key_size=-1, serialized_value_size=177, serialized_header_size=-1)\n",
      "eeb15954-299e-42b3-880f-c087bbbf7e03 RecordMetadata(topic='dataset', partition=0, topic_partition=TopicPartition(topic='dataset', partition=0), offset=3, timestamp=1730713949573, log_start_offset=0, checksum=None, serialized_key_size=-1, serialized_value_size=188, serialized_header_size=-1)\n",
      "a97b3dab-4188-4611-8247-6d4510b4aeb8 RecordMetadata(topic='dataset', partition=0, topic_partition=TopicPartition(topic='dataset', partition=0), offset=4, timestamp=1730713954581, log_start_offset=0, checksum=None, serialized_key_size=-1, serialized_value_size=187, serialized_header_size=-1)\n",
      "cb377eda-6ac7-40d8-9504-8bf6277aeb5f RecordMetadata(topic='dataset', partition=0, topic_partition=TopicPartition(topic='dataset', partition=0), offset=5, timestamp=1730713959588, log_start_offset=0, checksum=None, serialized_key_size=-1, serialized_value_size=183, serialized_header_size=-1)\n",
      "59c98739-8f2e-4477-847e-97e23d8f9e2e RecordMetadata(topic='dataset', partition=0, topic_partition=TopicPartition(topic='dataset', partition=0), offset=6, timestamp=1730713964597, log_start_offset=0, checksum=None, serialized_key_size=-1, serialized_value_size=180, serialized_header_size=-1)\n",
      "d422a710-088e-4455-9d14-02542b4351a4 RecordMetadata(topic='dataset', partition=0, topic_partition=TopicPartition(topic='dataset', partition=0), offset=7, timestamp=1730713969611, log_start_offset=0, checksum=None, serialized_key_size=-1, serialized_value_size=189, serialized_header_size=-1)\n",
      "52b9771b-64b2-4419-a449-42448b166dfd RecordMetadata(topic='dataset', partition=0, topic_partition=TopicPartition(topic='dataset', partition=0), offset=8, timestamp=1730713974621, log_start_offset=0, checksum=None, serialized_key_size=-1, serialized_value_size=189, serialized_header_size=-1)\n",
      "9585b2aa-10eb-405b-8cd9-0bd3c34c7f64 RecordMetadata(topic='dataset', partition=0, topic_partition=TopicPartition(topic='dataset', partition=0), offset=9, timestamp=1730713979630, log_start_offset=0, checksum=None, serialized_key_size=-1, serialized_value_size=179, serialized_header_size=-1)\n",
      "27a3eb25-ffe6-4a87-ac58-80ccfa968364 RecordMetadata(topic='dataset', partition=0, topic_partition=TopicPartition(topic='dataset', partition=0), offset=10, timestamp=1730713984641, log_start_offset=0, checksum=None, serialized_key_size=-1, serialized_value_size=183, serialized_header_size=-1)\n",
      "971b499f-2ee4-4665-a306-b45709f69a1d RecordMetadata(topic='dataset', partition=0, topic_partition=TopicPartition(topic='dataset', partition=0), offset=11, timestamp=1730713989651, log_start_offset=0, checksum=None, serialized_key_size=-1, serialized_value_size=179, serialized_header_size=-1)\n",
      "1ba5fcc6-113a-4e9d-8fb6-3ccf62a72dbd RecordMetadata(topic='dataset', partition=0, topic_partition=TopicPartition(topic='dataset', partition=0), offset=12, timestamp=1730713994659, log_start_offset=0, checksum=None, serialized_key_size=-1, serialized_value_size=190, serialized_header_size=-1)\n",
      "42acf228-32be-4a6b-9375-94c0f85758f7 RecordMetadata(topic='dataset', partition=0, topic_partition=TopicPartition(topic='dataset', partition=0), offset=13, timestamp=1730713999669, log_start_offset=0, checksum=None, serialized_key_size=-1, serialized_value_size=185, serialized_header_size=-1)\n",
      "7e8ffc32-f063-46d1-8ec9-6edf5e9a6a26 RecordMetadata(topic='dataset', partition=0, topic_partition=TopicPartition(topic='dataset', partition=0), offset=14, timestamp=1730714004676, log_start_offset=0, checksum=None, serialized_key_size=-1, serialized_value_size=182, serialized_header_size=-1)\n",
      "9f8d2e9d-8d36-4fbb-a496-6d79f2f87e2c RecordMetadata(topic='dataset', partition=0, topic_partition=TopicPartition(topic='dataset', partition=0), offset=15, timestamp=1730714009683, log_start_offset=0, checksum=None, serialized_key_size=-1, serialized_value_size=184, serialized_header_size=-1)\n",
      "f855ac35-58a8-4417-8b2f-d21f1301c8d4 RecordMetadata(topic='dataset', partition=0, topic_partition=TopicPartition(topic='dataset', partition=0), offset=16, timestamp=1730714014690, log_start_offset=0, checksum=None, serialized_key_size=-1, serialized_value_size=179, serialized_header_size=-1)\n",
      "59b6c896-f23b-42ca-93cc-fcdeebd31064 RecordMetadata(topic='dataset', partition=0, topic_partition=TopicPartition(topic='dataset', partition=0), offset=17, timestamp=1730714019696, log_start_offset=0, checksum=None, serialized_key_size=-1, serialized_value_size=182, serialized_header_size=-1)\n",
      "5e4323b0-4943-498f-9fce-d6c18bd1c7d0 RecordMetadata(topic='dataset', partition=0, topic_partition=TopicPartition(topic='dataset', partition=0), offset=18, timestamp=1730714024700, log_start_offset=0, checksum=None, serialized_key_size=-1, serialized_value_size=184, serialized_header_size=-1)\n",
      "6939af2c-3289-43e1-95d8-42dfdae6d1cf RecordMetadata(topic='dataset', partition=0, topic_partition=TopicPartition(topic='dataset', partition=0), offset=19, timestamp=1730714029708, log_start_offset=0, checksum=None, serialized_key_size=-1, serialized_value_size=183, serialized_header_size=-1)\n",
      "50298feb-666b-4bad-9ab1-66b920006319 RecordMetadata(topic='dataset', partition=0, topic_partition=TopicPartition(topic='dataset', partition=0), offset=20, timestamp=1730714034719, log_start_offset=0, checksum=None, serialized_key_size=-1, serialized_value_size=180, serialized_header_size=-1)\n",
      "31762d3d-a518-4957-8b8d-c3a1a5619da7 RecordMetadata(topic='dataset', partition=0, topic_partition=TopicPartition(topic='dataset', partition=0), offset=21, timestamp=1730714039727, log_start_offset=0, checksum=None, serialized_key_size=-1, serialized_value_size=181, serialized_header_size=-1)\n",
      "b07af9cf-9ddb-405e-ae15-1597f4fa1a09 RecordMetadata(topic='dataset', partition=0, topic_partition=TopicPartition(topic='dataset', partition=0), offset=22, timestamp=1730714044737, log_start_offset=0, checksum=None, serialized_key_size=-1, serialized_value_size=180, serialized_header_size=-1)\n",
      "2297850b-876d-4e7d-8ac5-d4dd2dd7746b RecordMetadata(topic='dataset', partition=0, topic_partition=TopicPartition(topic='dataset', partition=0), offset=23, timestamp=1730714049744, log_start_offset=0, checksum=None, serialized_key_size=-1, serialized_value_size=184, serialized_header_size=-1)\n",
      "d8f53377-2042-49f9-96c6-e1b521e97d77 RecordMetadata(topic='dataset', partition=0, topic_partition=TopicPartition(topic='dataset', partition=0), offset=24, timestamp=1730714054751, log_start_offset=0, checksum=None, serialized_key_size=-1, serialized_value_size=188, serialized_header_size=-1)\n",
      "752c1b07-d7b2-43a7-8fd3-ce467d1a6d42 RecordMetadata(topic='dataset', partition=0, topic_partition=TopicPartition(topic='dataset', partition=0), offset=25, timestamp=1730714059760, log_start_offset=0, checksum=None, serialized_key_size=-1, serialized_value_size=179, serialized_header_size=-1)\n",
      "488cb861-4324-4043-a994-b6f5bbcc666f RecordMetadata(topic='dataset', partition=0, topic_partition=TopicPartition(topic='dataset', partition=0), offset=26, timestamp=1730714064768, log_start_offset=0, checksum=None, serialized_key_size=-1, serialized_value_size=183, serialized_header_size=-1)\n",
      "77a42332-8e57-40c0-b2b8-bc8d783c30c9 RecordMetadata(topic='dataset', partition=0, topic_partition=TopicPartition(topic='dataset', partition=0), offset=27, timestamp=1730714069776, log_start_offset=0, checksum=None, serialized_key_size=-1, serialized_value_size=179, serialized_header_size=-1)\n",
      "693fbf31-a8f9-43c1-8969-727329e500da RecordMetadata(topic='dataset', partition=0, topic_partition=TopicPartition(topic='dataset', partition=0), offset=28, timestamp=1730714074787, log_start_offset=0, checksum=None, serialized_key_size=-1, serialized_value_size=180, serialized_header_size=-1)\n",
      "7c143400-00d3-4b66-8402-7f2b7e5e4379 RecordMetadata(topic='dataset', partition=0, topic_partition=TopicPartition(topic='dataset', partition=0), offset=29, timestamp=1730714079798, log_start_offset=0, checksum=None, serialized_key_size=-1, serialized_value_size=182, serialized_header_size=-1)\n",
      "45be4bc7-42b5-4a96-bbd4-613bdb4e52b6 RecordMetadata(topic='dataset', partition=0, topic_partition=TopicPartition(topic='dataset', partition=0), offset=30, timestamp=1730714084809, log_start_offset=0, checksum=None, serialized_key_size=-1, serialized_value_size=179, serialized_header_size=-1)\n",
      "7fd02667-3d89-4562-85fd-d30702e7bb06 RecordMetadata(topic='dataset', partition=0, topic_partition=TopicPartition(topic='dataset', partition=0), offset=31, timestamp=1730714089823, log_start_offset=0, checksum=None, serialized_key_size=-1, serialized_value_size=183, serialized_header_size=-1)\n",
      "96cbb809-8d3f-47de-98d1-0f7b9332e0ef RecordMetadata(topic='dataset', partition=0, topic_partition=TopicPartition(topic='dataset', partition=0), offset=32, timestamp=1730714094837, log_start_offset=0, checksum=None, serialized_key_size=-1, serialized_value_size=189, serialized_header_size=-1)\n",
      "cc1fba62-2f7c-4822-a986-45ce0aa98317 RecordMetadata(topic='dataset', partition=0, topic_partition=TopicPartition(topic='dataset', partition=0), offset=33, timestamp=1730714099849, log_start_offset=0, checksum=None, serialized_key_size=-1, serialized_value_size=190, serialized_header_size=-1)\n",
      "9563bd95-d3b1-4735-882a-4fa0af1f38ca RecordMetadata(topic='dataset', partition=0, topic_partition=TopicPartition(topic='dataset', partition=0), offset=34, timestamp=1730714104861, log_start_offset=0, checksum=None, serialized_key_size=-1, serialized_value_size=193, serialized_header_size=-1)\n",
      "0bc0a80f-fc1f-42e2-a3df-0a3c00008ac0 RecordMetadata(topic='dataset', partition=0, topic_partition=TopicPartition(topic='dataset', partition=0), offset=35, timestamp=1730714109872, log_start_offset=0, checksum=None, serialized_key_size=-1, serialized_value_size=193, serialized_header_size=-1)\n",
      "783d84a5-e46e-4ec2-aac8-a1753e29b4af RecordMetadata(topic='dataset', partition=0, topic_partition=TopicPartition(topic='dataset', partition=0), offset=36, timestamp=1730714114880, log_start_offset=0, checksum=None, serialized_key_size=-1, serialized_value_size=187, serialized_header_size=-1)\n",
      "5570b14e-779e-441c-82bb-4b8733aa7109 RecordMetadata(topic='dataset', partition=0, topic_partition=TopicPartition(topic='dataset', partition=0), offset=37, timestamp=1730714119887, log_start_offset=0, checksum=None, serialized_key_size=-1, serialized_value_size=178, serialized_header_size=-1)\n",
      "2f41f506-24a6-4373-8972-16749315a51d RecordMetadata(topic='dataset', partition=0, topic_partition=TopicPartition(topic='dataset', partition=0), offset=38, timestamp=1730714124893, log_start_offset=0, checksum=None, serialized_key_size=-1, serialized_value_size=185, serialized_header_size=-1)\n",
      "5f933c77-dd60-4d9f-b91e-f888027c834a RecordMetadata(topic='dataset', partition=0, topic_partition=TopicPartition(topic='dataset', partition=0), offset=39, timestamp=1730714129897, log_start_offset=0, checksum=None, serialized_key_size=-1, serialized_value_size=186, serialized_header_size=-1)\n",
      "93396f0e-57c8-4210-802c-f29526ca319c RecordMetadata(topic='dataset', partition=0, topic_partition=TopicPartition(topic='dataset', partition=0), offset=40, timestamp=1730714134904, log_start_offset=0, checksum=None, serialized_key_size=-1, serialized_value_size=181, serialized_header_size=-1)\n",
      "9dc8c3f2-7502-4f36-a8db-0c4de2f262f9 RecordMetadata(topic='dataset', partition=0, topic_partition=TopicPartition(topic='dataset', partition=0), offset=41, timestamp=1730714139908, log_start_offset=0, checksum=None, serialized_key_size=-1, serialized_value_size=189, serialized_header_size=-1)\n",
      "25eae68c-ec73-4593-acf6-06d5c3aead0f RecordMetadata(topic='dataset', partition=0, topic_partition=TopicPartition(topic='dataset', partition=0), offset=42, timestamp=1730714144913, log_start_offset=0, checksum=None, serialized_key_size=-1, serialized_value_size=184, serialized_header_size=-1)\n",
      "03972c25-872a-4770-8bfb-a9c7983b3a67 RecordMetadata(topic='dataset', partition=0, topic_partition=TopicPartition(topic='dataset', partition=0), offset=43, timestamp=1730714149924, log_start_offset=0, checksum=None, serialized_key_size=-1, serialized_value_size=187, serialized_header_size=-1)\n",
      "bafca912-0a12-4860-a493-0f664c9d13cd RecordMetadata(topic='dataset', partition=0, topic_partition=TopicPartition(topic='dataset', partition=0), offset=44, timestamp=1730714154935, log_start_offset=0, checksum=None, serialized_key_size=-1, serialized_value_size=181, serialized_header_size=-1)\n",
      "5e262914-e376-40e9-b77f-8598d16a066d RecordMetadata(topic='dataset', partition=0, topic_partition=TopicPartition(topic='dataset', partition=0), offset=45, timestamp=1730714159941, log_start_offset=0, checksum=None, serialized_key_size=-1, serialized_value_size=183, serialized_header_size=-1)\n",
      "dde0f6e5-ab4d-4746-b284-996387a3c315 RecordMetadata(topic='dataset', partition=0, topic_partition=TopicPartition(topic='dataset', partition=0), offset=46, timestamp=1730714164953, log_start_offset=0, checksum=None, serialized_key_size=-1, serialized_value_size=188, serialized_header_size=-1)\n",
      "6e2c9589-503b-4886-8a18-5da7d0047031 RecordMetadata(topic='dataset', partition=0, topic_partition=TopicPartition(topic='dataset', partition=0), offset=47, timestamp=1730714169965, log_start_offset=0, checksum=None, serialized_key_size=-1, serialized_value_size=188, serialized_header_size=-1)\n",
      "0171eaee-7b16-4890-8a03-9085efd832fb RecordMetadata(topic='dataset', partition=0, topic_partition=TopicPartition(topic='dataset', partition=0), offset=48, timestamp=1730714174978, log_start_offset=0, checksum=None, serialized_key_size=-1, serialized_value_size=183, serialized_header_size=-1)\n",
      "f3c791a2-8cd6-4b04-973f-ab20dff3b8d7 RecordMetadata(topic='dataset', partition=0, topic_partition=TopicPartition(topic='dataset', partition=0), offset=49, timestamp=1730714179990, log_start_offset=0, checksum=None, serialized_key_size=-1, serialized_value_size=181, serialized_header_size=-1)\n",
      "953f26d1-d20c-48f2-a442-2e0c4ccf1837 RecordMetadata(topic='dataset', partition=0, topic_partition=TopicPartition(topic='dataset', partition=0), offset=50, timestamp=1730714185001, log_start_offset=0, checksum=None, serialized_key_size=-1, serialized_value_size=183, serialized_header_size=-1)\n",
      "731e6384-50a5-4a9b-97c4-5d553d9f5713 RecordMetadata(topic='dataset', partition=0, topic_partition=TopicPartition(topic='dataset', partition=0), offset=51, timestamp=1730714190010, log_start_offset=0, checksum=None, serialized_key_size=-1, serialized_value_size=187, serialized_header_size=-1)\n",
      "d7910b51-b951-402d-a547-f28f63a9c2ab RecordMetadata(topic='dataset', partition=0, topic_partition=TopicPartition(topic='dataset', partition=0), offset=52, timestamp=1730714195021, log_start_offset=0, checksum=None, serialized_key_size=-1, serialized_value_size=180, serialized_header_size=-1)\n",
      "20f258f5-ba67-4f82-9b40-edf5f4f24f83 RecordMetadata(topic='dataset', partition=0, topic_partition=TopicPartition(topic='dataset', partition=0), offset=53, timestamp=1730714200027, log_start_offset=0, checksum=None, serialized_key_size=-1, serialized_value_size=179, serialized_header_size=-1)\n",
      "b909cd23-d3dd-4fba-9cb7-2140378828bf RecordMetadata(topic='dataset', partition=0, topic_partition=TopicPartition(topic='dataset', partition=0), offset=54, timestamp=1730714205036, log_start_offset=0, checksum=None, serialized_key_size=-1, serialized_value_size=184, serialized_header_size=-1)\n",
      "87bb620c-02e0-4e64-b691-17f4f7c26294 RecordMetadata(topic='dataset', partition=0, topic_partition=TopicPartition(topic='dataset', partition=0), offset=55, timestamp=1730714210044, log_start_offset=0, checksum=None, serialized_key_size=-1, serialized_value_size=193, serialized_header_size=-1)\n",
      "33fbdde4-526d-405e-ae2e-3bfe6545a72f RecordMetadata(topic='dataset', partition=0, topic_partition=TopicPartition(topic='dataset', partition=0), offset=56, timestamp=1730714215054, log_start_offset=0, checksum=None, serialized_key_size=-1, serialized_value_size=179, serialized_header_size=-1)\n",
      "4076df98-b689-4046-b6c4-66f208601bc2 RecordMetadata(topic='dataset', partition=0, topic_partition=TopicPartition(topic='dataset', partition=0), offset=57, timestamp=1730714220061, log_start_offset=0, checksum=None, serialized_key_size=-1, serialized_value_size=188, serialized_header_size=-1)\n",
      "6e8ab13a-9b09-464f-a7c1-67775c52e544 RecordMetadata(topic='dataset', partition=0, topic_partition=TopicPartition(topic='dataset', partition=0), offset=58, timestamp=1730714225068, log_start_offset=0, checksum=None, serialized_key_size=-1, serialized_value_size=179, serialized_header_size=-1)\n",
      "c0934ba9-aeed-455e-a498-daf39209c799 RecordMetadata(topic='dataset', partition=0, topic_partition=TopicPartition(topic='dataset', partition=0), offset=59, timestamp=1730714230077, log_start_offset=0, checksum=None, serialized_key_size=-1, serialized_value_size=193, serialized_header_size=-1)\n",
      "fcd41f3d-bd33-4b83-b6dc-77190f6c436d RecordMetadata(topic='dataset', partition=0, topic_partition=TopicPartition(topic='dataset', partition=0), offset=60, timestamp=1730714235085, log_start_offset=0, checksum=None, serialized_key_size=-1, serialized_value_size=182, serialized_header_size=-1)\n",
      "c663401c-2426-45f5-b998-5f50fae3af94 RecordMetadata(topic='dataset', partition=0, topic_partition=TopicPartition(topic='dataset', partition=0), offset=61, timestamp=1730714240094, log_start_offset=0, checksum=None, serialized_key_size=-1, serialized_value_size=180, serialized_header_size=-1)\n",
      "c16e967f-8dfe-4466-b56a-90f80c577fd3 RecordMetadata(topic='dataset', partition=0, topic_partition=TopicPartition(topic='dataset', partition=0), offset=62, timestamp=1730714245105, log_start_offset=0, checksum=None, serialized_key_size=-1, serialized_value_size=186, serialized_header_size=-1)\n",
      "faf3afb2-58ae-46d0-a945-434a577baa9b RecordMetadata(topic='dataset', partition=0, topic_partition=TopicPartition(topic='dataset', partition=0), offset=63, timestamp=1730714250118, log_start_offset=0, checksum=None, serialized_key_size=-1, serialized_value_size=180, serialized_header_size=-1)\n",
      "2b9857aa-d19c-45a0-805a-627772237cdf RecordMetadata(topic='dataset', partition=0, topic_partition=TopicPartition(topic='dataset', partition=0), offset=64, timestamp=1730714255125, log_start_offset=0, checksum=None, serialized_key_size=-1, serialized_value_size=181, serialized_header_size=-1)\n",
      "17fe9cd4-f02b-49c3-a5c1-26a9b9d6d6e9 RecordMetadata(topic='dataset', partition=0, topic_partition=TopicPartition(topic='dataset', partition=0), offset=65, timestamp=1730714260133, log_start_offset=0, checksum=None, serialized_key_size=-1, serialized_value_size=181, serialized_header_size=-1)\n",
      "4f912484-a0d7-4ec0-a7f8-a5e7196d4ec6 RecordMetadata(topic='dataset', partition=0, topic_partition=TopicPartition(topic='dataset', partition=0), offset=66, timestamp=1730714265140, log_start_offset=0, checksum=None, serialized_key_size=-1, serialized_value_size=186, serialized_header_size=-1)\n",
      "d8fd2a01-d115-4baa-8a75-b31ab1b1bafa RecordMetadata(topic='dataset', partition=0, topic_partition=TopicPartition(topic='dataset', partition=0), offset=67, timestamp=1730714270149, log_start_offset=0, checksum=None, serialized_key_size=-1, serialized_value_size=182, serialized_header_size=-1)\n",
      "48de9782-2423-4b89-97b3-054ff8af10fe RecordMetadata(topic='dataset', partition=0, topic_partition=TopicPartition(topic='dataset', partition=0), offset=68, timestamp=1730714275158, log_start_offset=0, checksum=None, serialized_key_size=-1, serialized_value_size=180, serialized_header_size=-1)\n",
      "26f7407c-d343-4a98-8a5c-6ad41670cddb RecordMetadata(topic='dataset', partition=0, topic_partition=TopicPartition(topic='dataset', partition=0), offset=69, timestamp=1730714280168, log_start_offset=0, checksum=None, serialized_key_size=-1, serialized_value_size=183, serialized_header_size=-1)\n",
      "7c66e7cd-437d-42d2-ae80-5a3e8699406c RecordMetadata(topic='dataset', partition=0, topic_partition=TopicPartition(topic='dataset', partition=0), offset=70, timestamp=1730714285177, log_start_offset=0, checksum=None, serialized_key_size=-1, serialized_value_size=187, serialized_header_size=-1)\n",
      "120bf42a-864e-45e3-8051-0d949d5443dd RecordMetadata(topic='dataset', partition=0, topic_partition=TopicPartition(topic='dataset', partition=0), offset=71, timestamp=1730714290186, log_start_offset=0, checksum=None, serialized_key_size=-1, serialized_value_size=185, serialized_header_size=-1)\n",
      "d846ca96-e0e6-4576-8f3e-e1212ee21258 RecordMetadata(topic='dataset', partition=0, topic_partition=TopicPartition(topic='dataset', partition=0), offset=72, timestamp=1730714295197, log_start_offset=0, checksum=None, serialized_key_size=-1, serialized_value_size=179, serialized_header_size=-1)\n",
      "ce35c98b-d697-4563-8fa9-41bc7b63cf24 RecordMetadata(topic='dataset', partition=0, topic_partition=TopicPartition(topic='dataset', partition=0), offset=73, timestamp=1730714300207, log_start_offset=0, checksum=None, serialized_key_size=-1, serialized_value_size=182, serialized_header_size=-1)\n",
      "23ae9d49-7369-48bd-930a-da010ad9ade6 RecordMetadata(topic='dataset', partition=0, topic_partition=TopicPartition(topic='dataset', partition=0), offset=74, timestamp=1730714305217, log_start_offset=0, checksum=None, serialized_key_size=-1, serialized_value_size=182, serialized_header_size=-1)\n",
      "e1f1207c-33ab-4b1c-9150-4f037083fffb RecordMetadata(topic='dataset', partition=0, topic_partition=TopicPartition(topic='dataset', partition=0), offset=75, timestamp=1730714310224, log_start_offset=0, checksum=None, serialized_key_size=-1, serialized_value_size=185, serialized_header_size=-1)\n",
      "ad0bb82c-79d2-40ce-ad33-03f18d8d51fc RecordMetadata(topic='dataset', partition=0, topic_partition=TopicPartition(topic='dataset', partition=0), offset=76, timestamp=1730714315231, log_start_offset=0, checksum=None, serialized_key_size=-1, serialized_value_size=187, serialized_header_size=-1)\n",
      "fc1435a1-b03e-4c77-8810-c0de733ba2c7 RecordMetadata(topic='dataset', partition=0, topic_partition=TopicPartition(topic='dataset', partition=0), offset=77, timestamp=1730714320241, log_start_offset=0, checksum=None, serialized_key_size=-1, serialized_value_size=188, serialized_header_size=-1)\n",
      "a7848835-91c9-45a7-a271-ac3fa36f6d63 RecordMetadata(topic='dataset', partition=0, topic_partition=TopicPartition(topic='dataset', partition=0), offset=78, timestamp=1730714325251, log_start_offset=0, checksum=None, serialized_key_size=-1, serialized_value_size=185, serialized_header_size=-1)\n",
      "3e82bba0-9f96-4766-bf22-79942631dfe8 RecordMetadata(topic='dataset', partition=0, topic_partition=TopicPartition(topic='dataset', partition=0), offset=79, timestamp=1730714330258, log_start_offset=0, checksum=None, serialized_key_size=-1, serialized_value_size=191, serialized_header_size=-1)\n",
      "a2869bc0-e8df-4132-bc7e-0a2fa6466619 RecordMetadata(topic='dataset', partition=0, topic_partition=TopicPartition(topic='dataset', partition=0), offset=80, timestamp=1730714335267, log_start_offset=0, checksum=None, serialized_key_size=-1, serialized_value_size=189, serialized_header_size=-1)\n",
      "5ad7f4ca-5553-4edc-ba3d-1a63edbf7ed2 RecordMetadata(topic='dataset', partition=0, topic_partition=TopicPartition(topic='dataset', partition=0), offset=81, timestamp=1730714340279, log_start_offset=0, checksum=None, serialized_key_size=-1, serialized_value_size=187, serialized_header_size=-1)\n",
      "e25eb920-1008-4e7f-9a9b-1ffccaae477e RecordMetadata(topic='dataset', partition=0, topic_partition=TopicPartition(topic='dataset', partition=0), offset=82, timestamp=1730714345294, log_start_offset=0, checksum=None, serialized_key_size=-1, serialized_value_size=187, serialized_header_size=-1)\n",
      "1fd6ee49-b9af-4bd8-bdb4-54fd2d3c11df RecordMetadata(topic='dataset', partition=0, topic_partition=TopicPartition(topic='dataset', partition=0), offset=83, timestamp=1730714350301, log_start_offset=0, checksum=None, serialized_key_size=-1, serialized_value_size=183, serialized_header_size=-1)\n",
      "cce807ba-59d3-49ae-9214-c37f8c835cce RecordMetadata(topic='dataset', partition=0, topic_partition=TopicPartition(topic='dataset', partition=0), offset=84, timestamp=1730714355307, log_start_offset=0, checksum=None, serialized_key_size=-1, serialized_value_size=185, serialized_header_size=-1)\n",
      "5f893016-45ac-47f1-acf7-acee19f3c2bf RecordMetadata(topic='dataset', partition=0, topic_partition=TopicPartition(topic='dataset', partition=0), offset=85, timestamp=1730714360315, log_start_offset=0, checksum=None, serialized_key_size=-1, serialized_value_size=179, serialized_header_size=-1)\n",
      "105416ef-871c-4007-9e34-eb5571b430ea RecordMetadata(topic='dataset', partition=0, topic_partition=TopicPartition(topic='dataset', partition=0), offset=86, timestamp=1730714365324, log_start_offset=0, checksum=None, serialized_key_size=-1, serialized_value_size=177, serialized_header_size=-1)\n",
      "f66405bd-fc65-4c20-89bc-aff7a427f21d RecordMetadata(topic='dataset', partition=0, topic_partition=TopicPartition(topic='dataset', partition=0), offset=87, timestamp=1730714370332, log_start_offset=0, checksum=None, serialized_key_size=-1, serialized_value_size=177, serialized_header_size=-1)\n",
      "abb2b260-df57-4e82-a750-906ddbea1360 RecordMetadata(topic='dataset', partition=0, topic_partition=TopicPartition(topic='dataset', partition=0), offset=88, timestamp=1730714375337, log_start_offset=0, checksum=None, serialized_key_size=-1, serialized_value_size=185, serialized_header_size=-1)\n",
      "502fdd85-c137-401a-b7ab-0e43bb0e0e1f RecordMetadata(topic='dataset', partition=0, topic_partition=TopicPartition(topic='dataset', partition=0), offset=89, timestamp=1730714380350, log_start_offset=0, checksum=None, serialized_key_size=-1, serialized_value_size=180, serialized_header_size=-1)\n",
      "dbeceef1-370d-4693-b914-97cffcdff6ea RecordMetadata(topic='dataset', partition=0, topic_partition=TopicPartition(topic='dataset', partition=0), offset=90, timestamp=1730714385359, log_start_offset=0, checksum=None, serialized_key_size=-1, serialized_value_size=181, serialized_header_size=-1)\n",
      "08d1e09c-78b7-4e25-866b-809420255507 RecordMetadata(topic='dataset', partition=0, topic_partition=TopicPartition(topic='dataset', partition=0), offset=91, timestamp=1730714390369, log_start_offset=0, checksum=None, serialized_key_size=-1, serialized_value_size=185, serialized_header_size=-1)\n",
      "a5ad1b93-2dd4-4c77-96d6-0910d757663f RecordMetadata(topic='dataset', partition=0, topic_partition=TopicPartition(topic='dataset', partition=0), offset=92, timestamp=1730714395377, log_start_offset=0, checksum=None, serialized_key_size=-1, serialized_value_size=182, serialized_header_size=-1)\n",
      "d5c4d91d-0dbb-4829-a330-01d037d6034e RecordMetadata(topic='dataset', partition=0, topic_partition=TopicPartition(topic='dataset', partition=0), offset=93, timestamp=1730714400388, log_start_offset=0, checksum=None, serialized_key_size=-1, serialized_value_size=186, serialized_header_size=-1)\n"
     ]
    },
    {
     "ename": "KeyboardInterrupt",
     "evalue": "",
     "output_type": "error",
     "traceback": [
      "\u001b[0;31m---------------------------------------------------------------------------\u001b[0m",
      "\u001b[0;31mKeyboardInterrupt\u001b[0m                         Traceback (most recent call last)",
      "Cell \u001b[0;32mIn[22], line 26\u001b[0m\n\u001b[1;32m     24\u001b[0m \u001b[38;5;28mprint\u001b[39m(json_data[\u001b[38;5;124m'\u001b[39m\u001b[38;5;124memp_id\u001b[39m\u001b[38;5;124m'\u001b[39m],response\u001b[38;5;241m.\u001b[39mget())\n\u001b[1;32m     25\u001b[0m \u001b[38;5;66;03m#print(_payload)\u001b[39;00m\n\u001b[0;32m---> 26\u001b[0m \u001b[43msleep\u001b[49m\u001b[43m(\u001b[49m\u001b[38;5;241;43m5\u001b[39;49m\u001b[43m)\u001b[49m\n",
      "\u001b[0;31mKeyboardInterrupt\u001b[0m: "
     ]
    }
   ],
   "source": [
    "class DataGenerator(object):\n",
    "    @staticmethod\n",
    "    def get_data():\n",
    "        return [\n",
    "                uuid.uuid4().__str__(),\n",
    "                faker.name(),\n",
    "                faker.random_element(elements=('IT', 'HR', 'Sales', 'Marketing')),\n",
    "                faker.random_element(elements=('CA', 'NY', 'TX', 'FL', 'IL', 'RJ')),\n",
    "                faker.random_int(min=10000, max=150000),\n",
    "                faker.random_int(min=18, max=60),\n",
    "                faker.random_int(min=0, max=100000),\n",
    "                faker.unix_time()\n",
    "        ]\n",
    "\n",
    "for i in range(1,400):\n",
    "    columns =  [\"emp_id\", \"employee_name\", \"department\", \"state\", \"salary\", \"age\", \"bonus\", \"ts\", \"new\"]\n",
    "    data_list = DataGenerator.get_data()\n",
    "    json_data = dict(\n",
    "        zip(columns,data_list)\n",
    "    )\n",
    "    _payload = json.dumps(json_data).encode(\"utf-8\")\n",
    "    response = producer.send(topic=kafka_topic_partition, value=_payload)\n",
    "    # response = producer.send(topic=kafka_topic_partition, value=_payload, partition=2)\n",
    "    print(json_data['emp_id'],response.get())\n",
    "    #print(_payload)\n",
    "    sleep(5)"
   ]
  },
  {
   "cell_type": "code",
   "execution_count": null,
   "id": "be1f121f-6f90-441c-a027-c095f5903ac9",
   "metadata": {},
   "outputs": [],
   "source": []
  }
 ],
 "metadata": {
  "kernelspec": {
   "display_name": "Python 3 (ipykernel)",
   "language": "python",
   "name": "python3"
  },
  "language_info": {
   "codemirror_mode": {
    "name": "ipython",
    "version": 3
   },
   "file_extension": ".py",
   "mimetype": "text/x-python",
   "name": "python",
   "nbconvert_exporter": "python",
   "pygments_lexer": "ipython3",
   "version": "3.10.10"
  }
 },
 "nbformat": 4,
 "nbformat_minor": 5
}
